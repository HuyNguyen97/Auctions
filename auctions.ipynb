{
 "cells": [
  {
   "cell_type": "markdown",
   "metadata": {},
   "source": [
    "### Auction Theory\n",
    "> Auctions are bayesian games of incomplete information. The code below analysis auctions from a game theory perspective\n",
    "\n",
    "![Auctions](https://qph.ec.quoracdn.net/main-qimg-ffdfa32fb01c75477ef67c7a3a05daa1-c)\n",
    "Source: https://www.quora.com/What-are-the-best-books-to-start-learning-about-Auction-Theory\n",
    "\n",
    "### About this Notebook\n",
    "> The following is an experimental code to study different types of auctions. This is a part of CS6283 - Computational Social Choice. The code is written using Python 3.x and requires Ipython, numpy and itertools modules. \n",
    "\n",
    "> Author: _Sivam Pillai_\n",
    "\n",
    "Running the code is simple. Just run each cell sequentially.\n",
    "* Run the first cell, which generates an html file where you can enter the game specifications\n",
    "* The following cells go through a number of computation separated into modules for easy flow and understanding\n",
    "* The last cell shows optimal allocation and individual player's payments in a tabular form\n",
    "\n",
    "***\n",
    "\n",
    "<div class=\"alert alert-block alert-info\">Tip: In this notebook the terms Players and Bidders are used interchangeably.</div>"
   ]
  },
  {
   "cell_type": "code",
   "execution_count": 329,
   "metadata": {
    "collapsed": false
   },
   "outputs": [
    {
     "data": {
      "text/html": [
       "\n",
       "<div style=\"background-color:gainsboro; border:solid black;\">\n",
       "<div><b>Enter the number of items and bidders for the Auction:</b></div>\n",
       "<div style=\"display:inline\">\n",
       "Players: <input type=\"text\" id=\"var_players\" value=\"1\">\n",
       "Items  : <input type=\"text\" id=\"var_items\" value=\"2\">\n",
       "</div>\n",
       "<button onclick=\"gen_table()\">Generate Table</button>\n",
       "</div>\n",
       "<style>\n",
       "    table{\n",
       "        width:100%;\n",
       "        height:10)%;\n",
       "    }\n",
       "    table td{\n",
       "        padding:5px;\n",
       "        margin:5px;\n",
       "        border:1px solid #ccc;\n",
       "    }\n",
       "</style>\n",
       "<div id=\"box\">\n",
       "<table id=\"basicTable\">\n",
       "</table>\n",
       "</div>\n",
       "<button onclick=\"set_valuations()\">Set Values</button>\n",
       "\n",
       "<script type=\"text/Javascript\">\n",
       "    function gen_table(){\n",
       "        var players = document.getElementById('var_players').value;\n",
       "        var items = document.getElementById('var_items').value;\n",
       "        \n",
       "        var parent = document.getElementById('box');\n",
       "        var child = document.getElementById('basicTable');\n",
       "        parent.removeChild(child);\n",
       "        mytable = $('<table></table>').attr({ id: \"basicTable\" });\n",
       "        var rows = players;\n",
       "        var cols = items;\n",
       "        var tr = [];\n",
       "        var row = $('<tr><td></td></tr>').attr({ class: [\"class1\"].join(' ') }).appendTo(mytable);\n",
       "        for (var j = 0; j < cols; j++) {\n",
       "                $(\"<td>Item \"+j+\"</td>\").appendTo(row); \n",
       "            }\n",
       "        for (var i = 0; i < rows; i++) {\n",
       "            var row = $('<tr></tr>').attr({ class: [\"class1\"].join(' ') }).appendTo(mytable);\n",
       "            $(\"<td>Player \"+i+\"</td>\").appendTo(row)\n",
       "            for (var j = 0; j < cols; j++) {\n",
       "                $(\"<td><input type='text' id='val_\"+i+\"_\"+j+\"' value='1'></td>\").appendTo(row); \n",
       "            }\n",
       "\n",
       "        }\n",
       "        console.log(\"TTTTT:\"+mytable.html());\n",
       "        mytable.appendTo(\"#box\"); \n",
       "    }\n",
       "\n",
       "    function set_valuations(){\n",
       "        var players = document.getElementById('var_players').value;\n",
       "        var items = document.getElementById('var_items').value;\n",
       "        var val = [];\n",
       "        var x;\n",
       "        for (var i = 0; i < players; i++) {\n",
       "            val[i] = [];\n",
       "            for (var j = 0; j < items; j++) {\n",
       "                x = 'val_'+i+'_'+j;\n",
       "                val[i][j] = document.getElementById(x).value;\n",
       "            }\n",
       "        }\n",
       "        \n",
       "        var kernel = IPython.notebook.kernel;\n",
       "        var cmd1 = \"players = \" + players;\n",
       "        var cmd2 = \"items = \" + items;\n",
       "        var cmd3 = \"my_val = \" + val;\n",
       "        \n",
       "        console.log(\"Executing Command: \" + cmd1);     \n",
       "        kernel.execute(cmd1);\n",
       "        \n",
       "        console.log(\"Executing Command: \" + cmd2);\n",
       "        kernel.execute(cmd2);  \n",
       "        \n",
       "        console.log(\"Executing Command: \" + cmd3);\n",
       "        kernel.execute(cmd3); \n",
       "\n",
       "    }\n",
       "</script>\n"
      ],
      "text/plain": [
       "<IPython.core.display.HTML object>"
      ]
     },
     "execution_count": 329,
     "metadata": {},
     "output_type": "execute_result"
    }
   ],
   "source": [
    "from IPython.display import HTML\n",
    "\n",
    "input_form = \"\"\"\n",
    "<div style=\"background-color:gainsboro; border:solid black;\">\n",
    "<div><b>Enter the number of items and bidders for the Auction:</b></div>\n",
    "<div style=\"display:inline\">\n",
    "Players: <input type=\"text\" id=\"var_players\" value=\"1\">\n",
    "Items  : <input type=\"text\" id=\"var_items\" value=\"2\">\n",
    "</div>\n",
    "<button onclick=\"gen_table()\">Generate Table</button>\n",
    "</div>\n",
    "<style>\n",
    "    table{\n",
    "        width:100%;\n",
    "        height:10)%;\n",
    "    }\n",
    "    table td{\n",
    "        padding:5px;\n",
    "        margin:5px;\n",
    "        border:1px solid #ccc;\n",
    "    }\n",
    "</style>\n",
    "<div id=\"box\">\n",
    "<table id=\"basicTable\">\n",
    "</table>\n",
    "</div>\n",
    "<button onclick=\"set_valuations()\">Set Values</button>\n",
    "\"\"\"\n",
    "\n",
    "\n",
    "\n",
    "javascript = \"\"\"\n",
    "<script type=\"text/Javascript\">\n",
    "    function gen_table(){\n",
    "        var players = document.getElementById('var_players').value;\n",
    "        var items = document.getElementById('var_items').value;\n",
    "        \n",
    "        var parent = document.getElementById('box');\n",
    "        var child = document.getElementById('basicTable');\n",
    "        parent.removeChild(child);\n",
    "        mytable = $('<table></table>').attr({ id: \"basicTable\" });\n",
    "        var rows = players;\n",
    "        var cols = items;\n",
    "        var tr = [];\n",
    "        var row = $('<tr><td></td></tr>').attr({ class: [\"class1\"].join(' ') }).appendTo(mytable);\n",
    "        for (var j = 0; j < cols; j++) {\n",
    "                $(\"<td>Item \"+j+\"</td>\").appendTo(row); \n",
    "            }\n",
    "        for (var i = 0; i < rows; i++) {\n",
    "            var row = $('<tr></tr>').attr({ class: [\"class1\"].join(' ') }).appendTo(mytable);\n",
    "            $(\"<td>Player \"+i+\"</td>\").appendTo(row)\n",
    "            for (var j = 0; j < cols; j++) {\n",
    "                $(\"<td><input type='text' id='val_\"+i+\"_\"+j+\"' value='1'></td>\").appendTo(row); \n",
    "            }\n",
    "\n",
    "        }\n",
    "        console.log(\"TTTTT:\"+mytable.html());\n",
    "        mytable.appendTo(\"#box\"); \n",
    "    }\n",
    "\n",
    "    function set_valuations(){\n",
    "        var players = document.getElementById('var_players').value;\n",
    "        var items = document.getElementById('var_items').value;\n",
    "        var val = [];\n",
    "        var x;\n",
    "        for (var i = 0; i < players; i++) {\n",
    "            val[i] = [];\n",
    "            for (var j = 0; j < items; j++) {\n",
    "                x = 'val_'+i+'_'+j;\n",
    "                val[i][j] = document.getElementById(x).value;\n",
    "            }\n",
    "        }\n",
    "        \n",
    "        var kernel = IPython.notebook.kernel;\n",
    "        var cmd1 = \"players = \" + players;\n",
    "        var cmd2 = \"items = \" + items;\n",
    "        var cmd3 = \"my_val = \" + val;\n",
    "        \n",
    "        console.log(\"Executing Command: \" + cmd1);     \n",
    "        kernel.execute(cmd1);\n",
    "        \n",
    "        console.log(\"Executing Command: \" + cmd2);\n",
    "        kernel.execute(cmd2);  \n",
    "        \n",
    "        console.log(\"Executing Command: \" + cmd3);\n",
    "        kernel.execute(cmd3); \n",
    "\n",
    "    }\n",
    "</script>\n",
    "\"\"\"\n",
    "\n",
    "HTML(input_form + javascript)"
   ]
  },
  {
   "cell_type": "code",
   "execution_count": 340,
   "metadata": {
    "collapsed": false
   },
   "outputs": [],
   "source": [
    "# First compute all different one-to-one allocations of items to bidders. \n",
    "import numpy as np\n",
    "import itertools\n",
    "\n",
    "k = 0\n",
    "allocs = np.zeros((items, players, 2),dtype=int)\n",
    "valuations = np.zeros((players, items),dtype=int)\n",
    "for i in range(0,players):\n",
    "    for j in range(0,items):\n",
    "        allocs[j,i] = [j,i]\n",
    "        valuations[i,j] = my_val[k]\n",
    "        k += 1"
   ]
  },
  {
   "cell_type": "code",
   "execution_count": 345,
   "metadata": {
    "collapsed": false,
    "scrolled": true
   },
   "outputs": [],
   "source": [
    "# Identify all possible allocations of items to bidders\n",
    "########\n",
    "# Uncomment the following lines to use the default values for items, players and valuations\n",
    "# items = 4\n",
    "# players = 3\n",
    "# allocs = np.array([[[0,0],[0,1],[0,2]],\n",
    "#                    [[1,0],[1,1],[1,2]],\n",
    "#                    [[2,0],[2,1],[2,2]],\n",
    "#                    [[3,0],[3,1],[3,2]],])\n",
    "# valuations = np.array([[10,20,30,40],\n",
    "#                        [20,20,20,40],\n",
    "#                        [40,10,10,40]])\n",
    "########\n",
    "\n",
    "x = list(itertools.product(*allocs))\n",
    "r = len(x)\n",
    "c = len(x[0])\n",
    "\n",
    "p = np.zeros((r,items+players+1),dtype=int)\n",
    "\n",
    "for i in range(0,r):\n",
    "    for j in range(0,c):\n",
    "        plid = x[i][j][1]+players # initial columns are items\n",
    "        if x[i][j][1] == 0:\n",
    "            p[i,plid] = p[i,plid] + valuations[x[i][j][1], x[i][j][0]]\n",
    "            p[i,x[i][j][0]] = 0\n",
    "        if x[i][j][1] == 1:\n",
    "            p[i,plid] = p[i,plid] + valuations[x[i][j][1], x[i][j][0]]\n",
    "            p[i,x[i][j][0]] = 1\n",
    "        if x[i][j][1] == 2:\n",
    "            p[i,plid] = p[i,plid] + valuations[x[i][j][1], x[i][j][0]]\n",
    "            p[i,x[i][j][0]] = 2\n",
    "    p[i,-1] = np.sum(p[i,-4:-1])"
   ]
  },
  {
   "cell_type": "code",
   "execution_count": 333,
   "metadata": {
    "collapsed": false
   },
   "outputs": [],
   "source": [
    "# Store the data in the form of a Dataframe\n",
    "import pandas as pd\n",
    "\n",
    "auctions_df = pd.DataFrame(p)\n",
    "auctions_df.columns = ['i'+ str(i) for i in range(0,items)] + \\\n",
    "                      ['v'+ str(i) for i in range(0,players)] + \\\n",
    "                      ['v_tot']\n",
    "#auctions_df.columns = ['i1','i2','i3','i4','v1','v2','v3','v_tot']\n",
    "v_max_without = np.zeros(players,dtype=int)\n",
    "for i in range(0,players):\n",
    "    v_max_without[i] = max(auctions_df.v_tot[(auctions_df.filter(regex='i') != 0).all(1)])"
   ]
  },
  {
   "cell_type": "markdown",
   "metadata": {},
   "source": [
    "### Vickrey–Clarke–Groves Auction (VCG)"
   ]
  },
  {
   "cell_type": "code",
   "execution_count": 335,
   "metadata": {
    "collapsed": false
   },
   "outputs": [],
   "source": [
    "vcg = auctions_df[auctions_df.v_tot == max(auctions_df.v_tot)].copy().reset_index(drop=True)\n",
    "for i in range(0,players):\n",
    "    vcg.loc[:,'p'+str(i)] = v_max_not[i] - (vcg.v_tot - vcg['v'+str(i)])"
   ]
  },
  {
   "cell_type": "code",
   "execution_count": 336,
   "metadata": {
    "collapsed": false
   },
   "outputs": [
    {
     "name": "stdout",
     "output_type": "stream",
     "text": [
      "Items:  ['i0', 'i1']\n",
      "Valuation of Player to their allocation:  ['v0', 'v1']\n",
      "Payment of Player for their allocation:  ['p0', 'p1']\n"
     ]
    },
    {
     "data": {
      "text/html": [
       "<table border=\"1\" class=\"dataframe\">\n",
       "  <thead>\n",
       "    <tr style=\"text-align: right;\">\n",
       "      <th></th>\n",
       "      <th>i0</th>\n",
       "      <th>i1</th>\n",
       "      <th>v0</th>\n",
       "      <th>v1</th>\n",
       "      <th>v_tot</th>\n",
       "      <th>p0</th>\n",
       "      <th>p1</th>\n",
       "    </tr>\n",
       "  </thead>\n",
       "  <tbody>\n",
       "    <tr>\n",
       "      <th>0</th>\n",
       "      <td>0</td>\n",
       "      <td>0</td>\n",
       "      <td>90</td>\n",
       "      <td>0</td>\n",
       "      <td>90</td>\n",
       "      <td>120</td>\n",
       "      <td>40</td>\n",
       "    </tr>\n",
       "  </tbody>\n",
       "</table>"
      ],
      "text/plain": [
       "<IPython.core.display.HTML object>"
      ]
     },
     "execution_count": 336,
     "metadata": {},
     "output_type": "execute_result"
    }
   ],
   "source": [
    "col_names = list(vcg)\n",
    "print('Items: ',[s for s in col_names if 'i' in s[0]])\n",
    "print('Valuation of Player to their allocation: ',[s for s in col_names if 'v' in s[0] and '_' not in s])\n",
    "print('Payment of Player for their allocation: ',[s for s in col_names if 'p' in s[0]])\n",
    "HTML(vcg.to_html())"
   ]
  },
  {
   "cell_type": "code",
   "execution_count": null,
   "metadata": {
    "collapsed": true
   },
   "outputs": [],
   "source": []
  }
 ],
 "metadata": {
  "kernelspec": {
   "display_name": "Python 3",
   "language": "python",
   "name": "python3"
  },
  "language_info": {
   "codemirror_mode": {
    "name": "ipython",
    "version": 3
   },
   "file_extension": ".py",
   "mimetype": "text/x-python",
   "name": "python",
   "nbconvert_exporter": "python",
   "pygments_lexer": "ipython3",
   "version": "3.5.2"
  },
  "widgets": {
   "state": {},
   "version": "1.1.2"
  }
 },
 "nbformat": 4,
 "nbformat_minor": 0
}
