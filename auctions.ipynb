{
 "cells": [
  {
   "cell_type": "markdown",
   "metadata": {},
   "source": [
    "### Auction Theory\n",
    "> Auctions are bayesian games of incomplete information. The code below analysis auctions from a game theory perspective\n",
    "\n",
    "![Auctions](https://qph.ec.quoracdn.net/main-qimg-ffdfa32fb01c75477ef67c7a3a05daa1-c)\n",
    "Source: https://www.quora.com/What-are-the-best-books-to-start-learning-about-Auction-Theory\n",
    "\n",
    "### About this Notebook\n",
    "> The following is an experimental code to study different types of auctions. This is a part of CS6283 - Computational Social Choice. The code is written using Python 3.x and requires Ipython, numpy and itertools modules. \n",
    "\n",
    "> Author: _Sivam Pillai_\n",
    "\n",
    "Running the code is simple. Just run each cell sequentially.\n",
    "* Run the first cell, which generates an html file where you can enter the game specifications\n",
    "* The following cells go through a number of computation separated into modules for easy flow and understanding\n",
    "* The last cell shows optimal allocation and individual player's payments in a tabular form\n",
    "\n",
    "***\n",
    "\n",
    "<div class=\"alert alert-block alert-info\">Tip: In this notebook the terms Players and Bidders are used interchangeably.</div>"
   ]
  },
  {
   "cell_type": "code",
   "execution_count": 2,
   "metadata": {
    "collapsed": false
   },
   "outputs": [
    {
     "data": {
      "text/html": [
       "\n",
       "<div style=\"background-color:gainsboro; border:solid black;\">\n",
       "<div><b>Enter the number of items and bidders for the Auction:</b></div>\n",
       "<div style=\"display:inline\">\n",
       "Players: <input type=\"text\" id=\"var_players\" value=\"1\">\n",
       "Items  : <input type=\"text\" id=\"var_items\" value=\"2\">\n",
       "</div>\n",
       "<button onclick=\"gen_table()\">Generate Table</button>\n",
       "</div>\n",
       "<style>\n",
       "    table{\n",
       "        width:100%;\n",
       "        height:10)%;\n",
       "    }\n",
       "    table td{\n",
       "        padding:5px;\n",
       "        margin:5px;\n",
       "        border:1px solid #ccc;\n",
       "    }\n",
       "</style>\n",
       "<div id=\"box\">\n",
       "<table id=\"basicTable\">\n",
       "</table>\n",
       "</div>\n",
       "<button onclick=\"set_valuations()\">Set Values</button>\n",
       "\n",
       "<script type=\"text/Javascript\">\n",
       "    function gen_table(){\n",
       "        var players = document.getElementById('var_players').value;\n",
       "        var items = document.getElementById('var_items').value;\n",
       "        \n",
       "        var parent = document.getElementById('box');\n",
       "        var child = document.getElementById('basicTable');\n",
       "        parent.removeChild(child);\n",
       "        mytable = $('<table></table>').attr({ id: \"basicTable\" });\n",
       "        var rows = players;\n",
       "        var cols = items;\n",
       "        var tr = [];\n",
       "        var row = $('<tr><td></td></tr>').attr({ class: [\"class1\"].join(' ') }).appendTo(mytable);\n",
       "        for (var j = 0; j < cols; j++) {\n",
       "                $(\"<td>Item \"+j+\"</td>\").appendTo(row); \n",
       "            }\n",
       "        for (var i = 0; i < rows; i++) {\n",
       "            var row = $('<tr></tr>').attr({ class: [\"class1\"].join(' ') }).appendTo(mytable);\n",
       "            $(\"<td>Player \"+i+\"</td>\").appendTo(row)\n",
       "            for (var j = 0; j < cols; j++) {\n",
       "                $(\"<td><input type='text' id='val_\"+i+\"_\"+j+\"' value='1'></td>\").appendTo(row); \n",
       "            }\n",
       "\n",
       "        }\n",
       "        console.log(\"TTTTT:\"+mytable.html());\n",
       "        mytable.appendTo(\"#box\"); \n",
       "    }\n",
       "\n",
       "    function set_valuations(){\n",
       "        var players = document.getElementById('var_players').value;\n",
       "        var items = document.getElementById('var_items').value;\n",
       "        var val = [];\n",
       "        var x;\n",
       "        for (var i = 0; i < players; i++) {\n",
       "            val[i] = [];\n",
       "            for (var j = 0; j < items; j++) {\n",
       "                x = 'val_'+i+'_'+j;\n",
       "                val[i][j] = document.getElementById(x).value;\n",
       "            }\n",
       "        }\n",
       "        \n",
       "        var kernel = IPython.notebook.kernel;\n",
       "        var cmd1 = \"players = \" + players;\n",
       "        var cmd2 = \"items = \" + items;\n",
       "        var cmd3 = \"my_val = \" + val;\n",
       "        \n",
       "        console.log(\"Executing Command: \" + cmd1);     \n",
       "        kernel.execute(cmd1);\n",
       "        \n",
       "        console.log(\"Executing Command: \" + cmd2);\n",
       "        kernel.execute(cmd2);  \n",
       "        \n",
       "        console.log(\"Executing Command: \" + cmd3);\n",
       "        kernel.execute(cmd3); \n",
       "\n",
       "    }\n",
       "</script>\n"
      ],
      "text/plain": [
       "<IPython.core.display.HTML object>"
      ]
     },
     "execution_count": 2,
     "metadata": {},
     "output_type": "execute_result"
    }
   ],
   "source": [
    "from IPython.display import HTML\n",
    "\n",
    "input_form = \"\"\"\n",
    "<div style=\"background-color:gainsboro; border:solid black;\">\n",
    "<div><b>Enter the number of items and bidders for the Auction:</b></div>\n",
    "<div style=\"display:inline\">\n",
    "Players: <input type=\"text\" id=\"var_players\" value=\"1\">\n",
    "Items  : <input type=\"text\" id=\"var_items\" value=\"2\">\n",
    "</div>\n",
    "<button onclick=\"gen_table()\">Generate Table</button>\n",
    "</div>\n",
    "<style>\n",
    "    table{\n",
    "        width:100%;\n",
    "        height:10)%;\n",
    "    }\n",
    "    table td{\n",
    "        padding:5px;\n",
    "        margin:5px;\n",
    "        border:1px solid #ccc;\n",
    "    }\n",
    "</style>\n",
    "<div id=\"box\">\n",
    "<table id=\"basicTable\">\n",
    "</table>\n",
    "</div>\n",
    "<button onclick=\"set_valuations()\">Set Values</button>\n",
    "\"\"\"\n",
    "\n",
    "\n",
    "\n",
    "javascript = \"\"\"\n",
    "<script type=\"text/Javascript\">\n",
    "    function gen_table(){\n",
    "        var players = document.getElementById('var_players').value;\n",
    "        var items = document.getElementById('var_items').value;\n",
    "        \n",
    "        var parent = document.getElementById('box');\n",
    "        var child = document.getElementById('basicTable');\n",
    "        parent.removeChild(child);\n",
    "        mytable = $('<table></table>').attr({ id: \"basicTable\" });\n",
    "        var rows = players;\n",
    "        var cols = items;\n",
    "        var tr = [];\n",
    "        var row = $('<tr><td></td></tr>').attr({ class: [\"class1\"].join(' ') }).appendTo(mytable);\n",
    "        for (var j = 0; j < cols; j++) {\n",
    "                $(\"<td>Item \"+j+\"</td>\").appendTo(row); \n",
    "            }\n",
    "        for (var i = 0; i < rows; i++) {\n",
    "            var row = $('<tr></tr>').attr({ class: [\"class1\"].join(' ') }).appendTo(mytable);\n",
    "            $(\"<td>Player \"+i+\"</td>\").appendTo(row)\n",
    "            for (var j = 0; j < cols; j++) {\n",
    "                $(\"<td><input type='text' id='val_\"+i+\"_\"+j+\"' value='1'></td>\").appendTo(row); \n",
    "            }\n",
    "\n",
    "        }\n",
    "        console.log(\"TTTTT:\"+mytable.html());\n",
    "        mytable.appendTo(\"#box\"); \n",
    "    }\n",
    "\n",
    "    function set_valuations(){\n",
    "        var players = document.getElementById('var_players').value;\n",
    "        var items = document.getElementById('var_items').value;\n",
    "        var val = [];\n",
    "        var x;\n",
    "        for (var i = 0; i < players; i++) {\n",
    "            val[i] = [];\n",
    "            for (var j = 0; j < items; j++) {\n",
    "                x = 'val_'+i+'_'+j;\n",
    "                val[i][j] = document.getElementById(x).value;\n",
    "            }\n",
    "        }\n",
    "        \n",
    "        var kernel = IPython.notebook.kernel;\n",
    "        var cmd1 = \"players = \" + players;\n",
    "        var cmd2 = \"items = \" + items;\n",
    "        var cmd3 = \"my_val = \" + val;\n",
    "        \n",
    "        console.log(\"Executing Command: \" + cmd1);     \n",
    "        kernel.execute(cmd1);\n",
    "        \n",
    "        console.log(\"Executing Command: \" + cmd2);\n",
    "        kernel.execute(cmd2);  \n",
    "        \n",
    "        console.log(\"Executing Command: \" + cmd3);\n",
    "        kernel.execute(cmd3); \n",
    "\n",
    "    }\n",
    "</script>\n",
    "\"\"\"\n",
    "\n",
    "HTML(input_form + javascript)"
   ]
  },
  {
   "cell_type": "code",
   "execution_count": 115,
   "metadata": {
    "collapsed": false
   },
   "outputs": [],
   "source": [
    "# First compute all different one-to-one allocations of items to bidders. \n",
    "import numpy as np\n",
    "import itertools\n",
    "\n",
    "k = 0\n",
    "allocs = np.zeros((items, players, 2),dtype=int)\n",
    "valuations = np.zeros((players, items),dtype=int)\n",
    "for i in range(0,players):\n",
    "    for j in range(0,items):\n",
    "        allocs[j,i] = [j,i]\n",
    "        valuations[i,j] = my_val[k]\n",
    "        k += 1"
   ]
  },
  {
   "cell_type": "code",
   "execution_count": 43,
   "metadata": {
    "collapsed": false,
    "scrolled": true
   },
   "outputs": [],
   "source": [
    "# Identify all possible allocations of items to bidders\n",
    "########\n",
    "# Uncomment the following lines to use the default values for items, players and valuations\n",
    "# items = 4\n",
    "# players = 3\n",
    "# allocs = np.array([[[0,0],[0,1],[0,2]],\n",
    "#                    [[1,0],[1,1],[1,2]],\n",
    "#                    [[2,0],[2,1],[2,2]],\n",
    "#                    [[3,0],[3,1],[3,2]],])\n",
    "# valuations = np.array([[10,20,30,40],\n",
    "#                        [20,20,20,40],\n",
    "#                        [40,10,10,40]])\n",
    "########\n",
    "\n",
    "x = list(itertools.product(*allocs))\n",
    "r = len(x)\n",
    "c = len(x[0])\n",
    "\n",
    "p = np.zeros((r,items+players+1),dtype=int)\n",
    "\n",
    "for i in range(0,r):\n",
    "    for j in range(0,c):\n",
    "        plid = x[i][j][1]+items # initial columns are items\n",
    "        p[i,plid] = p[i,plid] + valuations[x[i][j][1], x[i][j][0]]\n",
    "        p[i,x[i][j][0]] = x[i][j][1]\n",
    "#         if x[i][j][1] == 0:\n",
    "#             p[i,plid] = p[i,plid] + valuations[x[i][j][1], x[i][j][0]]\n",
    "#             p[i,x[i][j][0]] = x[i][j][1]\n",
    "#         if x[i][j][1] == 1:\n",
    "#             p[i,plid] = p[i,plid] + valuations[x[i][j][1], x[i][j][0]]\n",
    "#             p[i,x[i][j][0]] = 1\n",
    "#         if x[i][j][1] == 2:\n",
    "#             p[i,plid] = p[i,plid] + valuations[x[i][j][1], x[i][j][0]]\n",
    "#             p[i,x[i][j][0]] = 2\n",
    "    p[i,-1] = np.sum(p[i,-players-1:-1])"
   ]
  },
  {
   "cell_type": "code",
   "execution_count": 44,
   "metadata": {
    "collapsed": false
   },
   "outputs": [],
   "source": [
    "# Store the data in the form of a Dataframe\n",
    "import pandas as pd\n",
    "\n",
    "auctions_df = pd.DataFrame(p)\n",
    "auctions_df.columns = ['i'+ str(i) for i in range(0,items)] + \\\n",
    "                      ['v'+ str(i) for i in range(0,players)] + \\\n",
    "                      ['v_tot']\n",
    "#auctions_df.columns = ['i1','i2','i3','i4','v1','v2','v3','v_tot']\n",
    "v_max_without = np.zeros(players,dtype=int)\n",
    "for i in range(0,players):\n",
    "    v_max_without[i] = max(auctions_df.v_tot[(auctions_df.filter(regex='i') != 0).all(1)])"
   ]
  },
  {
   "cell_type": "markdown",
   "metadata": {},
   "source": [
    "### Vickrey–Clarke–Groves Auction (VCG)"
   ]
  },
  {
   "cell_type": "code",
   "execution_count": 45,
   "metadata": {
    "collapsed": false
   },
   "outputs": [],
   "source": [
    "vcg = auctions_df[auctions_df.v_tot == max(auctions_df.v_tot)].copy().reset_index(drop=True)\n",
    "for i in range(0,players):\n",
    "    vcg.loc[:,'p'+str(i)] = v_max_without[i] - (vcg.v_tot - vcg['v'+str(i)])"
   ]
  },
  {
   "cell_type": "code",
   "execution_count": 46,
   "metadata": {
    "collapsed": false
   },
   "outputs": [
    {
     "name": "stdout",
     "output_type": "stream",
     "text": [
      "Items:  ['i0', 'i1', 'i2', 'i3']\n",
      "Valuation of Player to their allocation:  ['v0', 'v1', 'v2']\n",
      "Payment of Player for their allocation:  ['p0', 'p1', 'p2']\n"
     ]
    },
    {
     "data": {
      "text/html": [
       "<table border=\"1\" class=\"dataframe\">\n",
       "  <thead>\n",
       "    <tr style=\"text-align: right;\">\n",
       "      <th></th>\n",
       "      <th>i0</th>\n",
       "      <th>i1</th>\n",
       "      <th>i2</th>\n",
       "      <th>i3</th>\n",
       "      <th>v0</th>\n",
       "      <th>v1</th>\n",
       "      <th>v2</th>\n",
       "      <th>v_tot</th>\n",
       "      <th>p0</th>\n",
       "      <th>p1</th>\n",
       "      <th>p2</th>\n",
       "    </tr>\n",
       "  </thead>\n",
       "  <tbody>\n",
       "    <tr>\n",
       "      <th>0</th>\n",
       "      <td>1</td>\n",
       "      <td>1</td>\n",
       "      <td>2</td>\n",
       "      <td>2</td>\n",
       "      <td>0</td>\n",
       "      <td>11</td>\n",
       "      <td>18</td>\n",
       "      <td>29</td>\n",
       "      <td>0</td>\n",
       "      <td>11</td>\n",
       "      <td>18</td>\n",
       "    </tr>\n",
       "    <tr>\n",
       "      <th>1</th>\n",
       "      <td>2</td>\n",
       "      <td>1</td>\n",
       "      <td>2</td>\n",
       "      <td>2</td>\n",
       "      <td>0</td>\n",
       "      <td>6</td>\n",
       "      <td>23</td>\n",
       "      <td>29</td>\n",
       "      <td>0</td>\n",
       "      <td>6</td>\n",
       "      <td>23</td>\n",
       "    </tr>\n",
       "  </tbody>\n",
       "</table>"
      ],
      "text/plain": [
       "<IPython.core.display.HTML object>"
      ]
     },
     "execution_count": 46,
     "metadata": {},
     "output_type": "execute_result"
    }
   ],
   "source": [
    "col_names = list(vcg)\n",
    "print('Items: ',[s for s in col_names if 'i' in s[0]])\n",
    "print('Valuation of Player to their allocation: ',[s for s in col_names if 'v' in s[0] and '_' not in s])\n",
    "print('Payment of Player for their allocation: ',[s for s in col_names if 'p' in s[0]])\n",
    "HTML(vcg.to_html())"
   ]
  },
  {
   "cell_type": "markdown",
   "metadata": {
    "collapsed": true
   },
   "source": [
    "### Uniformly distributed in [0,1]"
   ]
  },
  {
   "cell_type": "code",
   "execution_count": 116,
   "metadata": {
    "collapsed": false
   },
   "outputs": [],
   "source": [
    "from sklearn.preprocessing import MaxAbsScaler, Normalizer\n",
    "\n",
    "bid_scale = MaxAbsScaler()\n",
    "valuations_scale = bid_scale.fit_transform(valuations)"
   ]
  },
  {
   "cell_type": "code",
   "execution_count": 127,
   "metadata": {
    "collapsed": false
   },
   "outputs": [],
   "source": [
    "def second_largest(numbers):\n",
    "    count = 0\n",
    "    m1 = m2 = float('-inf')\n",
    "    for x in numbers:\n",
    "        count += 1\n",
    "        if x > m2:\n",
    "            if x >= m1:\n",
    "                m1, m2 = x, m1            \n",
    "            else:\n",
    "                m2 = x\n",
    "    return m2 if count >= 2 else None"
   ]
  },
  {
   "cell_type": "code",
   "execution_count": 263,
   "metadata": {
    "collapsed": false,
    "scrolled": true
   },
   "outputs": [],
   "source": [
    "thresh = 0\n",
    "step = 10\n",
    "trials = 10000\n",
    "\n",
    "players = 3\n",
    "items = 1\n",
    "\n",
    "rev = np.zeros((step,trials))\n",
    "thresh = np.zeros(step)\n",
    "for i in range(0,step):\n",
    "    for j in range(0,trials):\n",
    "        valuations_scale = np.random.rand(players,items)\n",
    "        if np.max(valuations_scale) >= thresh[i]:\n",
    "            if second_largest(valuations_scale) >= thresh[i]:\n",
    "                rev[i,j] = second_largest(valuations_scale)\n",
    "            else:\n",
    "                rev[i,j] = thresh[i]\n",
    "        else:\n",
    "            rev[i,j] = 0\n",
    "    if i<step-1:\n",
    "        thresh[i+1] = thresh[i] + 1/step\n",
    "    "
   ]
  },
  {
   "cell_type": "code",
   "execution_count": 299,
   "metadata": {
    "collapsed": false
   },
   "outputs": [
    {
     "name": "stdout",
     "output_type": "stream",
     "text": [
      "Median:  [ 0.499  0.503  0.502  0.503  0.497  0.503  0.600  0.700  0.000  0.000] \n",
      "Mean  :  [ 0.496  0.504  0.506  0.516  0.523  0.532  0.524  0.479  0.396  0.246]\n"
     ]
    },
    {
     "name": "stderr",
     "output_type": "stream",
     "text": [
      "/usr/local/lib/python3.5/dist-packages/matplotlib/legend.py:633: UserWarning: Legend does not support {'fliers': [<matplotlib.lines.Line2D object at 0x7f21c97384e0>, <matplotlib.lines.Line2D object at 0x7f21c8ed8160>, <matplotlib.lines.Line2D object at 0x7f21e0eb0ba8>, <matplotlib.lines.Line2D object at 0x7f21e01007b8>, <matplotlib.lines.Line2D object at 0x7f21ca510b38>, <matplotlib.lines.Line2D object at 0x7f21e00ff860>, <matplotlib.lines.Line2D object at 0x7f21e0103630>, <matplotlib.lines.Line2D object at 0x7f21e0451cc0>, <matplotlib.lines.Line2D object at 0x7f21ca69ebe0>, <matplotlib.lines.Line2D object at 0x7f21e02cbe10>], 'means': [<matplotlib.lines.Line2D object at 0x7f21ca512630>, <matplotlib.lines.Line2D object at 0x7f21c9b66c50>, <matplotlib.lines.Line2D object at 0x7f21e0eb0198>, <matplotlib.lines.Line2D object at 0x7f21ca86a278>, <matplotlib.lines.Line2D object at 0x7f21f00410f0>, <matplotlib.lines.Line2D object at 0x7f21e00ff278>, <matplotlib.lines.Line2D object at 0x7f21e0103588>, <matplotlib.lines.Line2D object at 0x7f21ca7277f0>, <matplotlib.lines.Line2D object at 0x7f21c9a6a630>, <matplotlib.lines.Line2D object at 0x7f21e02cbda0>], 'caps': [<matplotlib.lines.Line2D object at 0x7f21e0206d30>, <matplotlib.lines.Line2D object at 0x7f21ca72e128>, <matplotlib.lines.Line2D object at 0x7f21e021d8d0>, <matplotlib.lines.Line2D object at 0x7f21e021df28>, <matplotlib.lines.Line2D object at 0x7f21ca9f8ba8>, <matplotlib.lines.Line2D object at 0x7f21c9a61400>, <matplotlib.lines.Line2D object at 0x7f21c9714940>, <matplotlib.lines.Line2D object at 0x7f21c9714400>, <matplotlib.lines.Line2D object at 0x7f2211420b38>, <matplotlib.lines.Line2D object at 0x7f21e00f39b0>, <matplotlib.lines.Line2D object at 0x7f21ca6bf128>, <matplotlib.lines.Line2D object at 0x7f21ca7189b0>, <matplotlib.lines.Line2D object at 0x7f21c9737f98>, <matplotlib.lines.Line2D object at 0x7f21e01e5048>, <matplotlib.lines.Line2D object at 0x7f21c971a6d8>, <matplotlib.lines.Line2D object at 0x7f21ca9970b8>, <matplotlib.lines.Line2D object at 0x7f21e01fdd68>, <matplotlib.lines.Line2D object at 0x7f21e01fd5f8>, <matplotlib.lines.Line2D object at 0x7f21e01420b8>, <matplotlib.lines.Line2D object at 0x7f21e0321748>], 'medians': [<matplotlib.lines.Line2D object at 0x7f21ca512828>, <matplotlib.lines.Line2D object at 0x7f21c9b667b8>, <matplotlib.lines.Line2D object at 0x7f21c9a61470>, <matplotlib.lines.Line2D object at 0x7f21ca86a470>, <matplotlib.lines.Line2D object at 0x7f21e00f3dd8>, <matplotlib.lines.Line2D object at 0x7f21ca724c18>, <matplotlib.lines.Line2D object at 0x7f21e01e5940>, <matplotlib.lines.Line2D object at 0x7f21ca727588>, <matplotlib.lines.Line2D object at 0x7f21c9a6aac8>, <matplotlib.lines.Line2D object at 0x7f21e0321208>], 'boxes': [<matplotlib.lines.Line2D object at 0x7f21ca7399e8>, <matplotlib.lines.Line2D object at 0x7f21c9738470>, <matplotlib.lines.Line2D object at 0x7f21c8ed8978>, <matplotlib.lines.Line2D object at 0x7f2219242ac8>, <matplotlib.lines.Line2D object at 0x7f21e01005f8>, <matplotlib.lines.Line2D object at 0x7f21ca510fd0>, <matplotlib.lines.Line2D object at 0x7f21c9b659b0>, <matplotlib.lines.Line2D object at 0x7f21e014e6a0>, <matplotlib.lines.Line2D object at 0x7f21e0451e10>, <matplotlib.lines.Line2D object at 0x7f21ca69ee80>], 'whiskers': [<matplotlib.lines.Line2D object at 0x7f21ca739518>, <matplotlib.lines.Line2D object at 0x7f21e0206978>, <matplotlib.lines.Line2D object at 0x7f21ca53b438>, <matplotlib.lines.Line2D object at 0x7f21ca53b3c8>, <matplotlib.lines.Line2D object at 0x7f22114575c0>, <matplotlib.lines.Line2D object at 0x7f21e030dcc0>, <matplotlib.lines.Line2D object at 0x7f21c971bfd0>, <matplotlib.lines.Line2D object at 0x7f21c971b9e8>, <matplotlib.lines.Line2D object at 0x7f21e0238588>, <matplotlib.lines.Line2D object at 0x7f21e0238908>, <matplotlib.lines.Line2D object at 0x7f21c9b6acc0>, <matplotlib.lines.Line2D object at 0x7f21c9b6ad68>, <matplotlib.lines.Line2D object at 0x7f21c9b65400>, <matplotlib.lines.Line2D object at 0x7f21e0eb4358>, <matplotlib.lines.Line2D object at 0x7f21e014ef60>, <matplotlib.lines.Line2D object at 0x7f21c971aa20>, <matplotlib.lines.Line2D object at 0x7f21c9b46cf8>, <matplotlib.lines.Line2D object at 0x7f21c9b46828>, <matplotlib.lines.Line2D object at 0x7f21c9a6f438>, <matplotlib.lines.Line2D object at 0x7f21e0142128>]} instances.\n",
      "A proxy artist may be used instead.\n",
      "See: http://matplotlib.org/users/legend_guide.html#using-proxy-artist\n",
      "  \"#using-proxy-artist\".format(orig_handle)\n"
     ]
    },
    {
     "data": {
      "image/png": "[encoded data removed]",
      "text/plain": [
       "<matplotlib.figure.Figure at 0x7f21c9737b00>"
      ]
     },
     "metadata": {},
     "output_type": "display_data"
    }
   ],
   "source": [
    "import matplotlib.pyplot as plt\n",
    "import math\n",
    "%matplotlib inline\n",
    "print(\"Median: \",np.median(rev,axis=1),\"\\nMean  : \", np.mean(rev,axis=1))\n",
    "ax = plt.figure()\n",
    "l1 = plt.boxplot(np.transpose(rev),showmeans=True)\n",
    "theo_rev = (players - 1)/ (players + 1)\n",
    "theo_thresh = math.ceil(step/(1+1/(players-1/math.factorial(players-2))))\n",
    "l2, = plt.plot(theo_thresh,theo_rev, 'og')\n",
    "plt.xticks([i for i in range(1,step+1)],thresh)\n",
    "plt.xlabel('Threshold')\n",
    "plt.ylabel('Revenue')\n",
    "plt.legend((l1,l2),('a','b'))\n",
    "#plt.plot(thresh,np.mean(rev,axis=1))\n",
    "plt.show()"
   ]
  },
  {
   "cell_type": "code",
   "execution_count": null,
   "metadata": {
    "collapsed": true
   },
   "outputs": [],
   "source": []
  }
 ],
 "metadata": {
  "kernelspec": {
   "display_name": "Python 3",
   "language": "python",
   "name": "python3"
  },
  "language_info": {
   "codemirror_mode": {
    "name": "ipython",
    "version": 3
   },
   "file_extension": ".py",
   "mimetype": "text/x-python",
   "name": "python",
   "nbconvert_exporter": "python",
   "pygments_lexer": "ipython3",
   "version": "3.5.2"
  },
  "widgets": {
   "state": {},
   "version": "1.1.2"
  }
 },
 "nbformat": 4,
 "nbformat_minor": 0
}
