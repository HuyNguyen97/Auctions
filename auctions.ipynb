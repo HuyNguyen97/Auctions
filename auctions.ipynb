{
 "cells": [
  {
   "cell_type": "markdown",
   "metadata": {},
   "source": [
    "### Auction Theory\n",
    "> Auctions are bayesian games of incomplete information. The code below analysis auctions from a game theory perspective\n",
    "\n",
    "![Auctions](https://qph.ec.quoracdn.net/main-qimg-ffdfa32fb01c75477ef67c7a3a05daa1-c)\n",
    "Source: https://www.quora.com/What-are-the-best-books-to-start-learning-about-Auction-Theory\n",
    "\n",
    "### About this Notebook\n",
    "> The following is an experimental code to study different types of auctions. This is a part of CS6283 - Computational Social Choice. The code is written using Python 3.x and requires Ipython, numpy and itertools modules. \n",
    "\n",
    "> Author: _Sivam Pillai_\n",
    "\n",
    "Running the code is simple. Just run each cell sequentially.\n",
    "* Run the first cell, which generates an html file where you can enter the game specifications\n",
    "* The following cells go through a number of computation separated into modules for easy flow and understanding\n",
    "* The last cell shows optimal allocation and individual player's payments in a tabular form\n",
    "\n",
    "***\n",
    "\n",
    "<div class=\"alert alert-block alert-info\">Tip: In this notebook the terms Players and Bidders are used interchangeably.</div>"
   ]
  },
  {
   "cell_type": "code",
   "execution_count": 1,
   "metadata": {
    "collapsed": false
   },
   "outputs": [
    {
     "data": {
      "text/html": [
       "\n",
       "<div style=\"background-color:gainsboro; border:solid black;\">\n",
       "<div><b>Enter the number of items and bidders for the Auction:</b></div>\n",
       "<div style=\"display:inline\">\n",
       "Players: <input type=\"text\" id=\"var_players\" value=\"1\">\n",
       "Items  : <input type=\"text\" id=\"var_items\" value=\"2\">\n",
       "</div>\n",
       "<button onclick=\"gen_table()\">Generate Table</button>\n",
       "</div>\n",
       "<style>\n",
       "    table{\n",
       "        width:100%;\n",
       "        height:10)%;\n",
       "    }\n",
       "    table td{\n",
       "        padding:5px;\n",
       "        margin:5px;\n",
       "        border:1px solid #ccc;\n",
       "    }\n",
       "</style>\n",
       "<div id=\"box\">\n",
       "<table id=\"basicTable\">\n",
       "</table>\n",
       "</div>\n",
       "<button onclick=\"set_valuations()\">Set Values</button>\n",
       "\n",
       "<script type=\"text/Javascript\">\n",
       "    function gen_table(){\n",
       "        var players = document.getElementById('var_players').value;\n",
       "        var items = document.getElementById('var_items').value;\n",
       "        \n",
       "        var parent = document.getElementById('box');\n",
       "        var child = document.getElementById('basicTable');\n",
       "        parent.removeChild(child);\n",
       "        mytable = $('<table></table>').attr({ id: \"basicTable\" });\n",
       "        var rows = players;\n",
       "        var cols = items;\n",
       "        var tr = [];\n",
       "        var row = $('<tr><td></td></tr>').attr({ class: [\"class1\"].join(' ') }).appendTo(mytable);\n",
       "        for (var j = 0; j < cols; j++) {\n",
       "                $(\"<td>Item \"+j+\"</td>\").appendTo(row); \n",
       "            }\n",
       "        for (var i = 0; i < rows; i++) {\n",
       "            var row = $('<tr></tr>').attr({ class: [\"class1\"].join(' ') }).appendTo(mytable);\n",
       "            $(\"<td>Player \"+i+\"</td>\").appendTo(row)\n",
       "            for (var j = 0; j < cols; j++) {\n",
       "                $(\"<td><input type='text' id='val_\"+i+\"_\"+j+\"' value='1'></td>\").appendTo(row); \n",
       "            }\n",
       "\n",
       "        }\n",
       "        console.log(\"TTTTT:\"+mytable.html());\n",
       "        mytable.appendTo(\"#box\"); \n",
       "    }\n",
       "\n",
       "    function set_valuations(){\n",
       "        var players = document.getElementById('var_players').value;\n",
       "        var items = document.getElementById('var_items').value;\n",
       "        var val = [];\n",
       "        var x;\n",
       "        for (var i = 0; i < players; i++) {\n",
       "            val[i] = [];\n",
       "            for (var j = 0; j < items; j++) {\n",
       "                x = 'val_'+i+'_'+j;\n",
       "                val[i][j] = document.getElementById(x).value;\n",
       "            }\n",
       "        }\n",
       "        \n",
       "        var kernel = IPython.notebook.kernel;\n",
       "        var cmd1 = \"players = \" + players;\n",
       "        var cmd2 = \"items = \" + items;\n",
       "        var cmd3 = \"my_val = \" + val;\n",
       "        \n",
       "        console.log(\"Executing Command: \" + cmd1);     \n",
       "        kernel.execute(cmd1);\n",
       "        \n",
       "        console.log(\"Executing Command: \" + cmd2);\n",
       "        kernel.execute(cmd2);  \n",
       "        \n",
       "        console.log(\"Executing Command: \" + cmd3);\n",
       "        kernel.execute(cmd3); \n",
       "\n",
       "    }\n",
       "</script>\n"
      ],
      "text/plain": [
       "<IPython.core.display.HTML object>"
      ]
     },
     "execution_count": 1,
     "metadata": {},
     "output_type": "execute_result"
    }
   ],
   "source": [
    "from IPython.display import HTML\n",
    "\n",
    "input_form = \"\"\"\n",
    "<div style=\"background-color:gainsboro; border:solid black;\">\n",
    "<div><b>Enter the number of items and bidders for the Auction:</b></div>\n",
    "<div style=\"display:inline\">\n",
    "Players: <input type=\"text\" id=\"var_players\" value=\"1\">\n",
    "Items  : <input type=\"text\" id=\"var_items\" value=\"2\">\n",
    "</div>\n",
    "<button onclick=\"gen_table()\">Generate Table</button>\n",
    "</div>\n",
    "<style>\n",
    "    table{\n",
    "        width:100%;\n",
    "        height:10)%;\n",
    "    }\n",
    "    table td{\n",
    "        padding:5px;\n",
    "        margin:5px;\n",
    "        border:1px solid #ccc;\n",
    "    }\n",
    "</style>\n",
    "<div id=\"box\">\n",
    "<table id=\"basicTable\">\n",
    "</table>\n",
    "</div>\n",
    "<button onclick=\"set_valuations()\">Set Values</button>\n",
    "\"\"\"\n",
    "\n",
    "\n",
    "\n",
    "javascript = \"\"\"\n",
    "<script type=\"text/Javascript\">\n",
    "    function gen_table(){\n",
    "        var players = document.getElementById('var_players').value;\n",
    "        var items = document.getElementById('var_items').value;\n",
    "        \n",
    "        var parent = document.getElementById('box');\n",
    "        var child = document.getElementById('basicTable');\n",
    "        parent.removeChild(child);\n",
    "        mytable = $('<table></table>').attr({ id: \"basicTable\" });\n",
    "        var rows = players;\n",
    "        var cols = items;\n",
    "        var tr = [];\n",
    "        var row = $('<tr><td></td></tr>').attr({ class: [\"class1\"].join(' ') }).appendTo(mytable);\n",
    "        for (var j = 0; j < cols; j++) {\n",
    "                $(\"<td>Item \"+j+\"</td>\").appendTo(row); \n",
    "            }\n",
    "        for (var i = 0; i < rows; i++) {\n",
    "            var row = $('<tr></tr>').attr({ class: [\"class1\"].join(' ') }).appendTo(mytable);\n",
    "            $(\"<td>Player \"+i+\"</td>\").appendTo(row)\n",
    "            for (var j = 0; j < cols; j++) {\n",
    "                $(\"<td><input type='text' id='val_\"+i+\"_\"+j+\"' value='1'></td>\").appendTo(row); \n",
    "            }\n",
    "\n",
    "        }\n",
    "        console.log(\"TTTTT:\"+mytable.html());\n",
    "        mytable.appendTo(\"#box\"); \n",
    "    }\n",
    "\n",
    "    function set_valuations(){\n",
    "        var players = document.getElementById('var_players').value;\n",
    "        var items = document.getElementById('var_items').value;\n",
    "        var val = [];\n",
    "        var x;\n",
    "        for (var i = 0; i < players; i++) {\n",
    "            val[i] = [];\n",
    "            for (var j = 0; j < items; j++) {\n",
    "                x = 'val_'+i+'_'+j;\n",
    "                val[i][j] = document.getElementById(x).value;\n",
    "            }\n",
    "        }\n",
    "        \n",
    "        var kernel = IPython.notebook.kernel;\n",
    "        var cmd1 = \"players = \" + players;\n",
    "        var cmd2 = \"items = \" + items;\n",
    "        var cmd3 = \"my_val = \" + val;\n",
    "        \n",
    "        console.log(\"Executing Command: \" + cmd1);     \n",
    "        kernel.execute(cmd1);\n",
    "        \n",
    "        console.log(\"Executing Command: \" + cmd2);\n",
    "        kernel.execute(cmd2);  \n",
    "        \n",
    "        console.log(\"Executing Command: \" + cmd3);\n",
    "        kernel.execute(cmd3); \n",
    "\n",
    "    }\n",
    "</script>\n",
    "\"\"\"\n",
    "\n",
    "HTML(input_form + javascript)"
   ]
  },
  {
   "cell_type": "code",
   "execution_count": 2,
   "metadata": {
    "collapsed": false
   },
   "outputs": [],
   "source": [
    "# First compute all different one-to-one allocations of items to bidders. \n",
    "import numpy as np\n",
    "import itertools\n",
    "\n",
    "k = 0\n",
    "allocs = np.zeros((items, players, 2),dtype=int)\n",
    "valuations = np.zeros((players, items),dtype=int)\n",
    "for i in range(0,players):\n",
    "    for j in range(0,items):\n",
    "        allocs[j,i] = [j,i]\n",
    "        valuations[i,j] = my_val[k]\n",
    "        k += 1"
   ]
  },
  {
   "cell_type": "code",
   "execution_count": 3,
   "metadata": {
    "collapsed": false,
    "scrolled": true
   },
   "outputs": [],
   "source": [
    "# Identify all possible allocations of items to bidders\n",
    "########\n",
    "# Uncomment the following lines to use the default values for items, players and valuations\n",
    "# items = 4\n",
    "# players = 3\n",
    "# allocs = np.array([[[0,0],[0,1],[0,2]],\n",
    "#                    [[1,0],[1,1],[1,2]],\n",
    "#                    [[2,0],[2,1],[2,2]],\n",
    "#                    [[3,0],[3,1],[3,2]],])\n",
    "# valuations = np.array([[10,20,30,40],\n",
    "#                        [20,20,20,40],\n",
    "#                        [40,10,10,40]])\n",
    "########\n",
    "\n",
    "x = list(itertools.product(*allocs))\n",
    "r = len(x)\n",
    "c = len(x[0])\n",
    "\n",
    "p = np.zeros((r,items+players+1),dtype=int)\n",
    "\n",
    "for i in range(0,r):\n",
    "    for j in range(0,c):\n",
    "        plid = x[i][j][1]+items # initial columns are items\n",
    "        p[i,plid] = p[i,plid] + valuations[x[i][j][1], x[i][j][0]]\n",
    "        p[i,x[i][j][0]] = x[i][j][1]\n",
    "#         if x[i][j][1] == 0:\n",
    "#             p[i,plid] = p[i,plid] + valuations[x[i][j][1], x[i][j][0]]\n",
    "#             p[i,x[i][j][0]] = x[i][j][1]\n",
    "#         if x[i][j][1] == 1:\n",
    "#             p[i,plid] = p[i,plid] + valuations[x[i][j][1], x[i][j][0]]\n",
    "#             p[i,x[i][j][0]] = 1\n",
    "#         if x[i][j][1] == 2:\n",
    "#             p[i,plid] = p[i,plid] + valuations[x[i][j][1], x[i][j][0]]\n",
    "#             p[i,x[i][j][0]] = 2\n",
    "    p[i,-1] = np.sum(p[i,-players-1:-1])"
   ]
  },
  {
   "cell_type": "code",
   "execution_count": 9,
   "metadata": {
    "collapsed": false
   },
   "outputs": [],
   "source": [
    "# Store the data in the form of a Dataframe\n",
    "import pandas as pd\n",
    "\n",
    "auctions_df = pd.DataFrame(p)\n",
    "auctions_df.columns = ['i'+ str(i) for i in range(0,items)] + \\\n",
    "                      ['v'+ str(i) for i in range(0,players)] + \\\n",
    "                      ['v_tot']\n",
    "#auctions_df.columns = ['i1','i2','i3','i4','v1','v2','v3','v_tot']\n",
    "v_max_without = np.zeros(players,dtype=int)\n",
    "for i in range(0,players):\n",
    "    v_max_without[i] = max(auctions_df.v_tot[(auctions_df.filter(regex='i') != i).all(1)])"
   ]
  },
  {
   "cell_type": "code",
   "execution_count": 10,
   "metadata": {
    "collapsed": false
   },
   "outputs": [
    {
     "data": {
      "text/plain": [
       "array([120, 130, 110])"
      ]
     },
     "execution_count": 10,
     "metadata": {},
     "output_type": "execute_result"
    }
   ],
   "source": [
    "v_max_without"
   ]
  },
  {
   "cell_type": "markdown",
   "metadata": {},
   "source": [
    "### Vickrey–Clarke–Groves Auction (VCG)"
   ]
  },
  {
   "cell_type": "code",
   "execution_count": 11,
   "metadata": {
    "collapsed": false
   },
   "outputs": [],
   "source": [
    "vcg = auctions_df[auctions_df.v_tot == max(auctions_df.v_tot)].copy().reset_index(drop=True)\n",
    "for i in range(0,players):\n",
    "    vcg.loc[:,'p'+str(i)] = v_max_without[i] - (vcg.v_tot - vcg['v'+str(i)])"
   ]
  },
  {
   "cell_type": "code",
   "execution_count": 12,
   "metadata": {
    "collapsed": false
   },
   "outputs": [
    {
     "name": "stdout",
     "output_type": "stream",
     "text": [
      "Items:  ['i0', 'i1', 'i2', 'i3']\n",
      "Valuation of Player to their allocation:  ['v0', 'v1', 'v2']\n",
      "Payment of Player for their allocation:  ['p0', 'p1', 'p2']\n"
     ]
    },
    {
     "data": {
      "text/html": [
       "<table border=\"1\" class=\"dataframe\">\n",
       "  <thead>\n",
       "    <tr style=\"text-align: right;\">\n",
       "      <th></th>\n",
       "      <th>i0</th>\n",
       "      <th>i1</th>\n",
       "      <th>i2</th>\n",
       "      <th>i3</th>\n",
       "      <th>v0</th>\n",
       "      <th>v1</th>\n",
       "      <th>v2</th>\n",
       "      <th>v_tot</th>\n",
       "      <th>p0</th>\n",
       "      <th>p1</th>\n",
       "      <th>p2</th>\n",
       "    </tr>\n",
       "  </thead>\n",
       "  <tbody>\n",
       "    <tr>\n",
       "      <th>0</th>\n",
       "      <td>2</td>\n",
       "      <td>0</td>\n",
       "      <td>0</td>\n",
       "      <td>0</td>\n",
       "      <td>90</td>\n",
       "      <td>0</td>\n",
       "      <td>40</td>\n",
       "      <td>130</td>\n",
       "      <td>80</td>\n",
       "      <td>0</td>\n",
       "      <td>20</td>\n",
       "    </tr>\n",
       "    <tr>\n",
       "      <th>1</th>\n",
       "      <td>2</td>\n",
       "      <td>0</td>\n",
       "      <td>0</td>\n",
       "      <td>1</td>\n",
       "      <td>50</td>\n",
       "      <td>40</td>\n",
       "      <td>40</td>\n",
       "      <td>130</td>\n",
       "      <td>40</td>\n",
       "      <td>40</td>\n",
       "      <td>20</td>\n",
       "    </tr>\n",
       "    <tr>\n",
       "      <th>2</th>\n",
       "      <td>2</td>\n",
       "      <td>0</td>\n",
       "      <td>0</td>\n",
       "      <td>2</td>\n",
       "      <td>50</td>\n",
       "      <td>0</td>\n",
       "      <td>80</td>\n",
       "      <td>130</td>\n",
       "      <td>40</td>\n",
       "      <td>0</td>\n",
       "      <td>60</td>\n",
       "    </tr>\n",
       "    <tr>\n",
       "      <th>3</th>\n",
       "      <td>2</td>\n",
       "      <td>1</td>\n",
       "      <td>0</td>\n",
       "      <td>0</td>\n",
       "      <td>70</td>\n",
       "      <td>20</td>\n",
       "      <td>40</td>\n",
       "      <td>130</td>\n",
       "      <td>60</td>\n",
       "      <td>20</td>\n",
       "      <td>20</td>\n",
       "    </tr>\n",
       "    <tr>\n",
       "      <th>4</th>\n",
       "      <td>2</td>\n",
       "      <td>1</td>\n",
       "      <td>0</td>\n",
       "      <td>1</td>\n",
       "      <td>30</td>\n",
       "      <td>60</td>\n",
       "      <td>40</td>\n",
       "      <td>130</td>\n",
       "      <td>20</td>\n",
       "      <td>60</td>\n",
       "      <td>20</td>\n",
       "    </tr>\n",
       "    <tr>\n",
       "      <th>5</th>\n",
       "      <td>2</td>\n",
       "      <td>1</td>\n",
       "      <td>0</td>\n",
       "      <td>2</td>\n",
       "      <td>30</td>\n",
       "      <td>20</td>\n",
       "      <td>80</td>\n",
       "      <td>130</td>\n",
       "      <td>20</td>\n",
       "      <td>20</td>\n",
       "      <td>60</td>\n",
       "    </tr>\n",
       "  </tbody>\n",
       "</table>"
      ],
      "text/plain": [
       "<IPython.core.display.HTML object>"
      ]
     },
     "execution_count": 12,
     "metadata": {},
     "output_type": "execute_result"
    }
   ],
   "source": [
    "col_names = list(vcg)\n",
    "print('Items: ',[s for s in col_names if 'i' in s[0]])\n",
    "print('Valuation of Player to their allocation: ',[s for s in col_names if 'v' in s[0] and '_' not in s])\n",
    "print('Payment of Player for their allocation: ',[s for s in col_names if 'p' in s[0]])\n",
    "HTML(vcg.to_html())"
   ]
  },
  {
   "cell_type": "markdown",
   "metadata": {
    "collapsed": true
   },
   "source": [
    "## Part 2 - Seller Revenue for Uniform Distribution Bidder Valuation in [0,1]\n",
    "### Single Item, Second Price Auction"
   ]
  },
  {
   "cell_type": "code",
   "execution_count": 13,
   "metadata": {
    "collapsed": false
   },
   "outputs": [],
   "source": [
    "from sklearn.preprocessing import MaxAbsScaler, Normalizer\n",
    "\n",
    "bid_scale = MaxAbsScaler()\n",
    "valuations_scale = bid_scale.fit_transform(valuations)"
   ]
  },
  {
   "cell_type": "code",
   "execution_count": 14,
   "metadata": {
    "collapsed": false
   },
   "outputs": [],
   "source": [
    "def second_largest(numbers):\n",
    "    count = 0\n",
    "    m1 = m2 = float('-inf')\n",
    "    for x in numbers:\n",
    "        count += 1\n",
    "        if x > m2:\n",
    "            if x >= m1:\n",
    "                m1, m2 = x, m1            \n",
    "            else:\n",
    "                m2 = x\n",
    "    return m2 if count >= 2 else None"
   ]
  },
  {
   "cell_type": "code",
   "execution_count": 183,
   "metadata": {
    "collapsed": false,
    "scrolled": true
   },
   "outputs": [],
   "source": [
    "def get_revenue(players, items, step, trials, second_price):\n",
    "    rev = np.zeros((step,trials))\n",
    "    thresh = np.zeros(step)\n",
    "    \n",
    "    for i in range(0,step):\n",
    "        for j in range(0,trials):\n",
    "            valuations_scale = np.random.uniform(size=(players,items))\n",
    "            if np.max(valuations_scale) >= thresh[i]:\n",
    "                if second_largest(valuations_scale) >= thresh[i]:\n",
    "                    rev[i,j] = second_largest(valuations_scale)\n",
    "                else:\n",
    "                    if second_price:\n",
    "                        rev[i,j] = thresh[i]\n",
    "                    else:\n",
    "                        rev[i,j] = np.max(valuations_scale)\n",
    "            else:\n",
    "                rev[i,j] = 0\n",
    "        if i<step-1:\n",
    "            thresh[i+1] = thresh[i] + 1/step\n",
    "    \n",
    "    return rev"
   ]
  },
  {
   "cell_type": "code",
   "execution_count": 184,
   "metadata": {
    "collapsed": false
   },
   "outputs": [
    {
     "name": "stdout",
     "output_type": "stream",
     "text": [
      "\n",
      "2 Players\n",
      "Median:  [0.291, 0.292, 0.293, 0.3, 0.4, 0.5, 0.6, 0.7, 0.0, 0.0] \n",
      "Mean  :  [0.332, 0.341, 0.362, 0.39, 0.41, 0.421, 0.399, 0.361, 0.289, 0.171]\n",
      "\n",
      "3 Players\n",
      "Median:  [0.495, 0.504, 0.501, 0.5, 0.502, 0.501, 0.6, 0.7, 0.0, 0.0] \n",
      "Mean  :  [0.497, 0.503, 0.507, 0.514, 0.527, 0.533, 0.523, 0.486, 0.392, 0.248]\n"
     ]
    },
    {
     "data": {
      "image/png": "[encoded data removed]",
      "text/plain": [
       "<matplotlib.figure.Figure at 0x7fc2053ca550>"
      ]
     },
     "metadata": {},
     "output_type": "display_data"
    }
   ],
   "source": [
    "from decimal import *\n",
    "import matplotlib.pyplot as plt\n",
    "import math\n",
    "%matplotlib inline\n",
    "\n",
    "ax = plt.figure(figsize=(15,5))\n",
    "plt.subplot(121)\n",
    "rev = get_revenue(2,1,10,10000,second_price=True)\n",
    "print(\"\\n2 Players\\nMedian: \",[float(Decimal(\"%.3f\" % e)) for e in np.median(rev,axis=1)],\n",
    "      \"\\nMean  : \",[float(Decimal(\"%.3f\" % e)) for e in np.mean(rev,axis=1)] )\n",
    "l1 = plt.boxplot(np.transpose(rev),notch=True)\n",
    "\n",
    "n = players\n",
    "n_fact = math.factorial(players)\n",
    "theo_rev_0 = (n-1)/(n+1)\n",
    "\n",
    "theo_thresh = 1/(1+1/(n-1/math.factorial(n-2)))\n",
    "\n",
    "k = (theo_thresh+0.1)*step\n",
    "\n",
    "\n",
    "theo_rev = theo_rev_0 + \\\n",
    "            (n_fact - n + 1)*np.power(theo_thresh,n) + \\\n",
    "            (n*theo_rev_0 - n_fact)*np.power(theo_thresh,n+1)\n",
    "\n",
    "#l2, = plt.plot(k,theo_rev, 'og')\n",
    "plt.xticks([i for i in range(1,step+1)],thresh)\n",
    "plt.xlabel('Reserve Price')\n",
    "plt.ylabel('Seller Revenue')\n",
    "plt.title('2 Players - Uniform Distribution')\n",
    "\n",
    "plt.subplot(122)\n",
    "rev = get_revenue(3,1,10,10000,second_price=True)\n",
    "print(\"\\n3 Players\\nMedian: \",[float(Decimal(\"%.3f\" % e)) for e in np.median(rev,axis=1)],\n",
    "      \"\\nMean  : \",[float(Decimal(\"%.3f\" % e)) for e in np.mean(rev,axis=1)] )\n",
    "l1 = plt.boxplot(np.transpose(rev),notch=True)\n",
    "\n",
    "n = players\n",
    "n_fact = math.factorial(players)\n",
    "theo_rev_0 = (n-1)/(n+1)\n",
    "\n",
    "theo_thresh = 1/(1+1/(n-1/math.factorial(n-2)))\n",
    "\n",
    "k = (theo_thresh+0.1)*step\n",
    "\n",
    "\n",
    "theo_rev = theo_rev_0 + \\\n",
    "            (n_fact - n + 1)*np.power(theo_thresh,n) + \\\n",
    "            (n*theo_rev_0 - n_fact)*np.power(theo_thresh,n+1)\n",
    "\n",
    "#l2, = plt.plot(k,theo_rev, 'og')\n",
    "plt.xticks([i for i in range(1,step+1)],thresh)\n",
    "plt.xlabel('Reserve Price')\n",
    "plt.ylabel('Seller Revenue')\n",
    "\n",
    "plt.title('3 Players - Uniform Distribution')\n",
    "\n",
    "\n",
    "#plt.plot(thresh,np.mean(rev,axis=1))\n",
    "plt.show()"
   ]
  },
  {
   "cell_type": "markdown",
   "metadata": {},
   "source": [
    "### Single Item, First Price Auction"
   ]
  },
  {
   "cell_type": "code",
   "execution_count": 185,
   "metadata": {
    "collapsed": false
   },
   "outputs": [
    {
     "name": "stdout",
     "output_type": "stream",
     "text": [
      "\n",
      "2 Players\n",
      "Median:  [0.296, 0.377, 0.463, 0.54, 0.583, 0.638, 0.674, 0.706, 0.0, 0.0] \n",
      "Mean  :  [0.334, 0.418, 0.49, 0.539, 0.547, 0.546, 0.505, 0.43, 0.322, 0.182]\n",
      "\n",
      "3 Players\n",
      "Median:  [0.5, 0.512, 0.535, 0.578, 0.622, 0.673, 0.718, 0.758, 0.0, 0.0] \n",
      "Mean  :  [0.5, 0.514, 0.542, 0.583, 0.613, 0.622, 0.609, 0.548, 0.432, 0.267]\n"
     ]
    },
    {
     "data": {
      "image/png": "[encoded data removed]",
      "text/plain": [
       "<matplotlib.figure.Figure at 0x7fc2054dd668>"
      ]
     },
     "metadata": {},
     "output_type": "display_data"
    }
   ],
   "source": [
    "from decimal import *\n",
    "import matplotlib.pyplot as plt\n",
    "import math\n",
    "%matplotlib inline\n",
    "\n",
    "ax = plt.figure(figsize=(15,5))\n",
    "plt.subplot(121)\n",
    "rev = get_revenue(2,1,10,10000,second_price=False)\n",
    "print(\"\\n2 Players\\nMedian: \",[float(Decimal(\"%.3f\" % e)) for e in np.median(rev,axis=1)],\n",
    "      \"\\nMean  : \",[float(Decimal(\"%.3f\" % e)) for e in np.mean(rev,axis=1)] )\n",
    "l1 = plt.boxplot(np.transpose(rev),notch=True)\n",
    "\n",
    "n = players\n",
    "n_fact = math.factorial(players)\n",
    "theo_rev_0 = (n-1)/(n+1)\n",
    "\n",
    "theo_thresh = 1/(1+1/(n-1/math.factorial(n-2)))\n",
    "\n",
    "k = (theo_thresh+0.1)*step\n",
    "\n",
    "\n",
    "theo_rev = theo_rev_0 + \\\n",
    "            (n_fact - n + 1)*np.power(theo_thresh,n) + \\\n",
    "            (n*theo_rev_0 - n_fact)*np.power(theo_thresh,n+1)\n",
    "\n",
    "#l2, = plt.plot(k,theo_rev, 'og')\n",
    "plt.xticks([i for i in range(1,step+1)],thresh)\n",
    "plt.xlabel('Reserve Price')\n",
    "plt.ylabel('Seller Revenue')\n",
    "plt.title('2 Players - Uniform Distribution')\n",
    "\n",
    "plt.subplot(122)\n",
    "rev = get_revenue(3,1,10,10000,second_price=False)\n",
    "print(\"\\n3 Players\\nMedian: \",[float(Decimal(\"%.3f\" % e)) for e in np.median(rev,axis=1)],\n",
    "      \"\\nMean  : \",[float(Decimal(\"%.3f\" % e)) for e in np.mean(rev,axis=1)] )\n",
    "l1 = plt.boxplot(np.transpose(rev),notch=True)\n",
    "\n",
    "n = players\n",
    "n_fact = math.factorial(players)\n",
    "theo_rev_0 = (n-1)/(n+1)\n",
    "\n",
    "theo_thresh = 1/(1+1/(n-1/math.factorial(n-2)))\n",
    "\n",
    "k = (theo_thresh+0.1)*step\n",
    "\n",
    "\n",
    "theo_rev = theo_rev_0 + \\\n",
    "            (n_fact - n + 1)*np.power(theo_thresh,n) + \\\n",
    "            (n*theo_rev_0 - n_fact)*np.power(theo_thresh,n+1)\n",
    "\n",
    "#l2, = plt.plot(k,theo_rev, 'og')\n",
    "plt.xticks([i for i in range(1,step+1)],thresh)\n",
    "plt.xlabel('Reserve Price')\n",
    "plt.ylabel('Seller Revenue')\n",
    "\n",
    "plt.title('3 Players - Uniform Distribution')\n",
    "\n",
    "\n",
    "#plt.plot(thresh,np.mean(rev,axis=1))\n",
    "plt.show()"
   ]
  },
  {
   "cell_type": "code",
   "execution_count": null,
   "metadata": {
    "collapsed": true
   },
   "outputs": [],
   "source": []
  }
 ],
 "metadata": {
  "kernelspec": {
   "display_name": "Python 3",
   "language": "python",
   "name": "python3"
  },
  "language_info": {
   "codemirror_mode": {
    "name": "ipython",
    "version": 3
   },
   "file_extension": ".py",
   "mimetype": "text/x-python",
   "name": "python",
   "nbconvert_exporter": "python",
   "pygments_lexer": "ipython3",
   "version": "3.5.2"
  },
  "widgets": {
   "state": {},
   "version": "1.1.2"
  }
 },
 "nbformat": 4,
 "nbformat_minor": 0
}
