{
 "cells": [
  {
   "cell_type": "markdown",
   "metadata": {},
   "source": [
    "### Auction Theory\n",
    "> Auctions are bayesian games of incomplete information. The code below analyses auctions from a game theory perspective\n",
    "\n",
    "![Auctions](https://qph.ec.quoracdn.net/main-qimg-ffdfa32fb01c75477ef67c7a3a05daa1-c)\n",
    "Source: https://www.quora.com/What-are-the-best-books-to-start-learning-about-Auction-Theory\n",
    "\n",
    "### About this Notebook\n",
    "> The following is an experimental code to study different types of auctions. This is a part of CS6283 - Computational Social Choice. The code is written using Python 3.x and requires Ipython, numpy, math, matplotlib, decimal and itertools modules. \n",
    "\n",
    "> Author: _Sivam Pillai_\n",
    "\n",
    "Running the code is simple. Just run each cell sequentially.\n",
    "* Run the first cell, which generates an html file where you can enter the game specifications\n",
    "* The following cells go through a number of computation separated into modules for easy flow and understanding\n",
    "* The last cell shows optimal allocation and individual player's payments in a tabular form\n",
    "\n",
    "***\n",
    "\n",
    "<div class=\"alert alert-block alert-info\">Tip: In this notebook the terms Players and Bidders are used interchangeably.</div>"
   ]
  },
  {
   "cell_type": "code",
   "execution_count": 60,
   "metadata": {
    "collapsed": false
   },
   "outputs": [
    {
     "data": {
      "text/html": [
       "\n",
       "<div style=\"background-color:gainsboro; border:solid black;\">\n",
       "<div><b>Enter the number of items and bidders for the Auction:</b></div>\n",
       "<div style=\"display:inline\">\n",
       "Players: <input type=\"text\" id=\"var_players\" value=\"1\">\n",
       "Items  : <input type=\"text\" id=\"var_items\" value=\"2\">\n",
       "</div>\n",
       "<button onclick=\"gen_table()\">Generate Table</button>\n",
       "</div>\n",
       "<style>\n",
       "    table{\n",
       "        width:100%;\n",
       "        height:10)%;\n",
       "    }\n",
       "    table td{\n",
       "        padding:5px;\n",
       "        margin:5px;\n",
       "        border:1px solid #ccc;\n",
       "    }\n",
       "</style>\n",
       "<div id=\"box\">\n",
       "<table id=\"basicTable\">\n",
       "</table>\n",
       "</div>\n",
       "<button onclick=\"rescale()\">Scale Values</button>\n",
       "<button onclick=\"set_valuations()\">Set Values</button>\n",
       "<button onclick=\"reset_valuations()\">Reset Values</button>\n",
       "\n",
       "<script type=\"text/Javascript\">\n",
       "    function gen_table(){\n",
       "        var players = document.getElementById('var_players').value;\n",
       "        var items = document.getElementById('var_items').value;\n",
       "        \n",
       "        var parent = document.getElementById('box');\n",
       "        var child = document.getElementById('basicTable');\n",
       "        parent.removeChild(child);\n",
       "        mytable = $('<table></table>').attr({ id: \"basicTable\" });\n",
       "        var rows = players;\n",
       "        var cols = items;\n",
       "        var tr = [];\n",
       "        var row = $('<tr><td></td></tr>').attr({ class: [\"class1\"].join(' ') }).appendTo(mytable);\n",
       "        for (var j = 0; j < cols; j++) {\n",
       "                $(\"<td>Item \"+j+\"</td>\").appendTo(row); \n",
       "            }\n",
       "        for (var i = 0; i < rows; i++) {\n",
       "            var row = $('<tr></tr>').attr({ class: [\"class1\"].join(' ') }).appendTo(mytable);\n",
       "            $(\"<td>Player \"+i+\"</td>\").appendTo(row)\n",
       "            for (var j = 0; j < cols; j++) {\n",
       "                $(\"<td><input type='text' id='val_\"+i+\"_\"+j+\"' value='1'></td>\").appendTo(row); \n",
       "            }\n",
       "\n",
       "        }\n",
       "        console.log(\"TTTTT:\"+mytable.html());\n",
       "        mytable.appendTo(\"#box\"); \n",
       "    }\n",
       "\n",
       "    function set_valuations(){\n",
       "        var players = document.getElementById('var_players').value;\n",
       "        var items = document.getElementById('var_items').value;\n",
       "        var val = [];\n",
       "        var x;\n",
       "        for (var i = 0; i < players; i++) {\n",
       "            val[i] = [];\n",
       "            for (var j = 0; j < items; j++) {\n",
       "                x = 'val_'+i+'_'+j;\n",
       "                val[i][j] = document.getElementById(x).value;\n",
       "            }\n",
       "        }\n",
       "        \n",
       "        var kernel = IPython.notebook.kernel;\n",
       "        var cmd1 = \"players = \" + players;\n",
       "        var cmd2 = \"items = \" + items;\n",
       "        var cmd3 = \"my_val = \" + val;\n",
       "        \n",
       "        console.log(\"Executing Command: \" + cmd1);     \n",
       "        kernel.execute(cmd1);\n",
       "        \n",
       "        console.log(\"Executing Command: \" + cmd2);\n",
       "        kernel.execute(cmd2);  \n",
       "        \n",
       "        console.log(\"Executing Command: \" + cmd3);\n",
       "        kernel.execute(cmd3); \n",
       "\n",
       "    }\n",
       "    \n",
       "    function rescale(){\n",
       "        var players = document.getElementById('var_players').value;\n",
       "        var items = document.getElementById('var_items').value;\n",
       "        var val = [];\n",
       "        var sum = 0;\n",
       "        var x;\n",
       "        for (var i = 0; i < players; i++) {\n",
       "            val[i] = [];\n",
       "            for (var j = 0; j < items; j++) {\n",
       "                x = 'val_'+i+'_'+j;\n",
       "                val[i][j] = parseInt(document.getElementById(x).value);\n",
       "                sum = sum + val[i][j];  \n",
       "            }\n",
       "            for (var j = 0; j < items; j++) {\n",
       "                val[i][j] = val[i][j]*100/sum;\n",
       "                x = 'val_'+i+'_'+j;\n",
       "                document.getElementById(x).value = val[i][j];\n",
       "            }\n",
       "            sum = 0\n",
       "        }        \n",
       "    }\n",
       "    function reset_valuations(){\n",
       "        var players = document.getElementById('var_players').value;\n",
       "        var items = document.getElementById('var_items').value;\n",
       "        var val = [];\n",
       "        var x;\n",
       "        for (var i = 0; i < players; i++) {\n",
       "            val[i] = [];\n",
       "            for (var j = 0; j < items; j++) {\n",
       "                x = 'val_'+i+'_'+j;\n",
       "                document.getElementById(x).value = 1;\n",
       "            }\n",
       "        }\n",
       "    \n",
       "    }\n",
       "</script>\n"
      ],
      "text/plain": [
       "<IPython.core.display.HTML object>"
      ]
     },
     "execution_count": 60,
     "metadata": {},
     "output_type": "execute_result"
    }
   ],
   "source": [
    "from IPython.display import HTML\n",
    "\n",
    "input_form = \"\"\"\n",
    "<div style=\"background-color:gainsboro; border:solid black;\">\n",
    "<div><b>Enter the number of items and bidders for the Auction:</b></div>\n",
    "<div style=\"display:inline\">\n",
    "Players: <input type=\"text\" id=\"var_players\" value=\"1\">\n",
    "Items  : <input type=\"text\" id=\"var_items\" value=\"2\">\n",
    "</div>\n",
    "<button onclick=\"gen_table()\">Generate Table</button>\n",
    "</div>\n",
    "<style>\n",
    "    table{\n",
    "        width:100%;\n",
    "        height:10)%;\n",
    "    }\n",
    "    table td{\n",
    "        padding:5px;\n",
    "        margin:5px;\n",
    "        border:1px solid #ccc;\n",
    "    }\n",
    "</style>\n",
    "<div id=\"box\">\n",
    "<table id=\"basicTable\">\n",
    "</table>\n",
    "</div>\n",
    "<button onclick=\"rescale()\">Scale Values</button>\n",
    "<button onclick=\"set_valuations()\">Set Values</button>\n",
    "<button onclick=\"reset_valuations()\">Reset Values</button>\n",
    "\"\"\"\n",
    "\n",
    "\n",
    "\n",
    "javascript = \"\"\"\n",
    "<script type=\"text/Javascript\">\n",
    "    function gen_table(){\n",
    "        var players = document.getElementById('var_players').value;\n",
    "        var items = document.getElementById('var_items').value;\n",
    "        \n",
    "        var parent = document.getElementById('box');\n",
    "        var child = document.getElementById('basicTable');\n",
    "        parent.removeChild(child);\n",
    "        mytable = $('<table></table>').attr({ id: \"basicTable\" });\n",
    "        var rows = players;\n",
    "        var cols = items;\n",
    "        var tr = [];\n",
    "        var row = $('<tr><td></td></tr>').attr({ class: [\"class1\"].join(' ') }).appendTo(mytable);\n",
    "        for (var j = 0; j < cols; j++) {\n",
    "                $(\"<td>Item \"+j+\"</td>\").appendTo(row); \n",
    "            }\n",
    "        for (var i = 0; i < rows; i++) {\n",
    "            var row = $('<tr></tr>').attr({ class: [\"class1\"].join(' ') }).appendTo(mytable);\n",
    "            $(\"<td>Player \"+i+\"</td>\").appendTo(row)\n",
    "            for (var j = 0; j < cols; j++) {\n",
    "                $(\"<td><input type='text' id='val_\"+i+\"_\"+j+\"' value='1'></td>\").appendTo(row); \n",
    "            }\n",
    "\n",
    "        }\n",
    "        console.log(\"TTTTT:\"+mytable.html());\n",
    "        mytable.appendTo(\"#box\"); \n",
    "    }\n",
    "\n",
    "    function set_valuations(){\n",
    "        var players = document.getElementById('var_players').value;\n",
    "        var items = document.getElementById('var_items').value;\n",
    "        var val = [];\n",
    "        var x;\n",
    "        for (var i = 0; i < players; i++) {\n",
    "            val[i] = [];\n",
    "            for (var j = 0; j < items; j++) {\n",
    "                x = 'val_'+i+'_'+j;\n",
    "                val[i][j] = document.getElementById(x).value;\n",
    "            }\n",
    "        }\n",
    "        \n",
    "        var kernel = IPython.notebook.kernel;\n",
    "        var cmd1 = \"players = \" + players;\n",
    "        var cmd2 = \"items = \" + items;\n",
    "        var cmd3 = \"my_val = \" + val;\n",
    "        \n",
    "        console.log(\"Executing Command: \" + cmd1);     \n",
    "        kernel.execute(cmd1);\n",
    "        \n",
    "        console.log(\"Executing Command: \" + cmd2);\n",
    "        kernel.execute(cmd2);  \n",
    "        \n",
    "        console.log(\"Executing Command: \" + cmd3);\n",
    "        kernel.execute(cmd3); \n",
    "\n",
    "    }\n",
    "    \n",
    "    function rescale(){\n",
    "        var players = document.getElementById('var_players').value;\n",
    "        var items = document.getElementById('var_items').value;\n",
    "        var val = [];\n",
    "        var sum = 0;\n",
    "        var x;\n",
    "        for (var i = 0; i < players; i++) {\n",
    "            val[i] = [];\n",
    "            for (var j = 0; j < items; j++) {\n",
    "                x = 'val_'+i+'_'+j;\n",
    "                val[i][j] = parseInt(document.getElementById(x).value);\n",
    "                sum = sum + val[i][j];  \n",
    "            }\n",
    "            for (var j = 0; j < items; j++) {\n",
    "                val[i][j] = val[i][j]*100/sum;\n",
    "                x = 'val_'+i+'_'+j;\n",
    "                document.getElementById(x).value = val[i][j];\n",
    "            }\n",
    "            sum = 0\n",
    "        }        \n",
    "    }\n",
    "    function reset_valuations(){\n",
    "        var players = document.getElementById('var_players').value;\n",
    "        var items = document.getElementById('var_items').value;\n",
    "        var val = [];\n",
    "        var x;\n",
    "        for (var i = 0; i < players; i++) {\n",
    "            val[i] = [];\n",
    "            for (var j = 0; j < items; j++) {\n",
    "                x = 'val_'+i+'_'+j;\n",
    "                document.getElementById(x).value = 1;\n",
    "            }\n",
    "        }\n",
    "    \n",
    "    }\n",
    "</script>\n",
    "\"\"\"\n",
    "\n",
    "HTML(input_form + javascript)"
   ]
  },
  {
   "cell_type": "code",
   "execution_count": 61,
   "metadata": {
    "collapsed": false
   },
   "outputs": [],
   "source": [
    "# First compute all different one-to-one allocations of items to bidders. \n",
    "import numpy as np\n",
    "import itertools\n",
    "\n",
    "k = 0\n",
    "allocs = np.zeros((items, players, 2),dtype=int)\n",
    "valuations = np.zeros((players, items),dtype=int)\n",
    "for i in range(0,players):\n",
    "    for j in range(0,items):\n",
    "        allocs[j,i] = [j,i]\n",
    "        valuations[i,j] = my_val[k]\n",
    "        k += 1"
   ]
  },
  {
   "cell_type": "code",
   "execution_count": 62,
   "metadata": {
    "collapsed": false,
    "scrolled": true
   },
   "outputs": [],
   "source": [
    "# Identify all possible allocations of items to bidders\n",
    "########\n",
    "# Uncomment the following lines to use the default values for items, players and valuations\n",
    "# items = 4\n",
    "# players = 3\n",
    "# allocs = np.array([[[0,0],[0,1],[0,2]],\n",
    "#                    [[1,0],[1,1],[1,2]],\n",
    "#                    [[2,0],[2,1],[2,2]],\n",
    "#                    [[3,0],[3,1],[3,2]],])\n",
    "# valuations = np.array([[10,20,30,40],\n",
    "#                        [20,20,20,40],\n",
    "#                        [40,10,10,40]])\n",
    "########\n",
    "\n",
    "x = list(itertools.product(*allocs))\n",
    "r = len(x)\n",
    "c = len(x[0])\n",
    "\n",
    "p = np.zeros((r,items+players+1),dtype=int)\n",
    "\n",
    "for i in range(0,r):\n",
    "    for j in range(0,c):\n",
    "        plid = x[i][j][1]+items # initial columns are items\n",
    "        p[i,plid] = p[i,plid] + valuations[x[i][j][1], x[i][j][0]]\n",
    "        p[i,x[i][j][0]] = x[i][j][1]\n",
    "    p[i,-1] = np.sum(p[i,-players-1:-1])"
   ]
  },
  {
   "cell_type": "code",
   "execution_count": 63,
   "metadata": {
    "collapsed": false
   },
   "outputs": [],
   "source": [
    "# Store the data in the form of a Dataframe\n",
    "import pandas as pd\n",
    "\n",
    "auctions_df = pd.DataFrame(p)\n",
    "auctions_df.columns = ['i'+ str(i) for i in range(0,items)] + \\\n",
    "                      ['v'+ str(i) for i in range(0,players)] + \\\n",
    "                      ['v_tot']\n",
    "#auctions_df.columns = ['i1','i2','i3','i4','v1','v2','v3','v_tot']\n",
    "v_max_without = np.zeros(players,dtype=int)\n",
    "for i in range(0,players):\n",
    "    v_max_without[i] = max(auctions_df.v_tot[(auctions_df.filter(regex='i') != i).all(1)])"
   ]
  },
  {
   "cell_type": "markdown",
   "metadata": {},
   "source": [
    "### Vickrey–Clarke–Groves Auction (VCG)"
   ]
  },
  {
   "cell_type": "code",
   "execution_count": 64,
   "metadata": {
    "collapsed": false
   },
   "outputs": [],
   "source": [
    "vcg = auctions_df[auctions_df.v_tot == max(auctions_df.v_tot)].copy().reset_index(drop=True)\n",
    "for i in range(0,players):\n",
    "    vcg.loc[:,'p'+str(i)] = v_max_without[i] - (vcg.v_tot - vcg['v'+str(i)])"
   ]
  },
  {
   "cell_type": "code",
   "execution_count": 65,
   "metadata": {
    "collapsed": false
   },
   "outputs": [
    {
     "name": "stdout",
     "output_type": "stream",
     "text": [
      "Items:  ['i0', 'i1', 'i2', 'i3']\n",
      "Valuation of Player to their allocation:  ['v0', 'v1', 'v2']\n",
      "Payment of Player for their allocation:  ['p0', 'p1', 'p2']\n"
     ]
    },
    {
     "data": {
      "text/html": [
       "<table border=\"1\" class=\"dataframe\">\n",
       "  <thead>\n",
       "    <tr style=\"text-align: right;\">\n",
       "      <th></th>\n",
       "      <th>i0</th>\n",
       "      <th>i1</th>\n",
       "      <th>i2</th>\n",
       "      <th>i3</th>\n",
       "      <th>v0</th>\n",
       "      <th>v1</th>\n",
       "      <th>v2</th>\n",
       "      <th>v_tot</th>\n",
       "      <th>p0</th>\n",
       "      <th>p1</th>\n",
       "      <th>p2</th>\n",
       "    </tr>\n",
       "  </thead>\n",
       "  <tbody>\n",
       "    <tr>\n",
       "      <th>0</th>\n",
       "      <td>2</td>\n",
       "      <td>0</td>\n",
       "      <td>0</td>\n",
       "      <td>0</td>\n",
       "      <td>90</td>\n",
       "      <td>0</td>\n",
       "      <td>40</td>\n",
       "      <td>130</td>\n",
       "      <td>80</td>\n",
       "      <td>0</td>\n",
       "      <td>20</td>\n",
       "    </tr>\n",
       "    <tr>\n",
       "      <th>1</th>\n",
       "      <td>2</td>\n",
       "      <td>0</td>\n",
       "      <td>0</td>\n",
       "      <td>1</td>\n",
       "      <td>50</td>\n",
       "      <td>40</td>\n",
       "      <td>40</td>\n",
       "      <td>130</td>\n",
       "      <td>40</td>\n",
       "      <td>40</td>\n",
       "      <td>20</td>\n",
       "    </tr>\n",
       "    <tr>\n",
       "      <th>2</th>\n",
       "      <td>2</td>\n",
       "      <td>0</td>\n",
       "      <td>0</td>\n",
       "      <td>2</td>\n",
       "      <td>50</td>\n",
       "      <td>0</td>\n",
       "      <td>80</td>\n",
       "      <td>130</td>\n",
       "      <td>40</td>\n",
       "      <td>0</td>\n",
       "      <td>60</td>\n",
       "    </tr>\n",
       "    <tr>\n",
       "      <th>3</th>\n",
       "      <td>2</td>\n",
       "      <td>1</td>\n",
       "      <td>0</td>\n",
       "      <td>0</td>\n",
       "      <td>70</td>\n",
       "      <td>20</td>\n",
       "      <td>40</td>\n",
       "      <td>130</td>\n",
       "      <td>60</td>\n",
       "      <td>20</td>\n",
       "      <td>20</td>\n",
       "    </tr>\n",
       "    <tr>\n",
       "      <th>4</th>\n",
       "      <td>2</td>\n",
       "      <td>1</td>\n",
       "      <td>0</td>\n",
       "      <td>1</td>\n",
       "      <td>30</td>\n",
       "      <td>60</td>\n",
       "      <td>40</td>\n",
       "      <td>130</td>\n",
       "      <td>20</td>\n",
       "      <td>60</td>\n",
       "      <td>20</td>\n",
       "    </tr>\n",
       "    <tr>\n",
       "      <th>5</th>\n",
       "      <td>2</td>\n",
       "      <td>1</td>\n",
       "      <td>0</td>\n",
       "      <td>2</td>\n",
       "      <td>30</td>\n",
       "      <td>20</td>\n",
       "      <td>80</td>\n",
       "      <td>130</td>\n",
       "      <td>20</td>\n",
       "      <td>20</td>\n",
       "      <td>60</td>\n",
       "    </tr>\n",
       "  </tbody>\n",
       "</table>"
      ],
      "text/plain": [
       "<IPython.core.display.HTML object>"
      ]
     },
     "execution_count": 65,
     "metadata": {},
     "output_type": "execute_result"
    }
   ],
   "source": [
    "col_names = list(vcg)\n",
    "print('Items: ',[s for s in col_names if 'i' in s[0]])\n",
    "print('Valuation of Player to their allocation: ',[s for s in col_names if 'v' in s[0] and '_' not in s])\n",
    "print('Payment of Player for their allocation: ',[s for s in col_names if 'p' in s[0]])\n",
    "HTML(vcg.to_html())"
   ]
  },
  {
   "cell_type": "code",
   "execution_count": 66,
   "metadata": {
    "collapsed": false
   },
   "outputs": [
    {
     "name": "stdout",
     "output_type": "stream",
     "text": [
      "VCG Payments:\n",
      "\n",
      "VCG Cost for Player  0 :  10\n",
      "VCG Cost for Player  1 :  0\n",
      "VCG Cost for Player  2 :  20\n"
     ]
    }
   ],
   "source": [
    "print('VCG Payments:\\n')\n",
    "for i in range(0,players):\n",
    "    print('VCG Cost for Player ', i, ': ', vcg['v'+str(i)][0] - vcg['p'+str(i)][0])"
   ]
  },
  {
   "cell_type": "markdown",
   "metadata": {
    "collapsed": true
   },
   "source": [
    "## Part 2 - Seller Revenue for Uniform Distribution Bidder Valuation in [0,1]\n",
    "### Single Item, Second Price Auction"
   ]
  },
  {
   "cell_type": "code",
   "execution_count": 67,
   "metadata": {
    "collapsed": false
   },
   "outputs": [],
   "source": [
    "import numpy as np\n",
    "def second_largest(numbers):\n",
    "    count = 0\n",
    "    m1 = m2 = float('-inf')\n",
    "    for x in numbers:\n",
    "        count += 1\n",
    "        if x > m2:\n",
    "            if x >= m1:\n",
    "                m1, m2 = x, m1            \n",
    "            else:\n",
    "                m2 = x\n",
    "    return m2 if count >= 2 else None"
   ]
  },
  {
   "cell_type": "code",
   "execution_count": 68,
   "metadata": {
    "collapsed": false,
    "scrolled": true
   },
   "outputs": [],
   "source": [
    "def get_revenue(pnum,players, items, steps, trials, second_price):\n",
    "    rev = np.zeros((steps,trials))\n",
    "    thresh = np.zeros(steps)\n",
    "      \n",
    "    for i in range(0,steps):\n",
    "        for j in range(0,trials):\n",
    "            valuations_scale = np.random.rand(players,items)\n",
    "            if np.max(valuations_scale) >= thresh[i]:\n",
    "                if second_largest(valuations_scale) >= thresh[i]:\n",
    "                    rev[i,j] = second_largest(valuations_scale)\n",
    "                else:\n",
    "                    if second_price:\n",
    "                        rev[i,j] = thresh[i]\n",
    "                    else:\n",
    "                        rev[i,j] = np.max(valuations_scale)\n",
    "            else:\n",
    "                rev[i,j] = 0\n",
    "            f_part.value = j + i*trials\n",
    "            f_full.value = pnum*steps*trials + j + i*trials\n",
    "            \n",
    "        if i<steps-1:\n",
    "            thresh[i+1] = thresh[i] + 1/steps\n",
    "    \n",
    "    return rev, thresh"
   ]
  },
  {
   "cell_type": "code",
   "execution_count": 72,
   "metadata": {
    "collapsed": false,
    "scrolled": true
   },
   "outputs": [
    {
     "name": "stdout",
     "output_type": "stream",
     "text": [
      "Set of Players:  [2, 4, 8, 10, 20, 40, 80, 100, 500, 1000]\n",
      "Current Players Set:  2\n",
      "Current Players Set:  4\n",
      "Current Players Set:  8\n",
      "Current Players Set:  10\n",
      "Current Players Set:  20\n",
      "Current Players Set:  40\n",
      "Current Players Set:  80\n",
      "Current Players Set:  100\n",
      "Current Players Set:  500\n",
      "Current Players Set:  1000\n",
      "\n",
      "All Runs Complete...\n"
     ]
    },
    {
     "data": {
      "image/png": "[encoded data removed]",
      "text/plain": [
       "<matplotlib.figure.Figure at 0x7fa6f44a8160>"
      ]
     },
     "metadata": {},
     "output_type": "display_data"
    }
   ],
   "source": [
    "from decimal import *\n",
    "import matplotlib.pyplot as plt\n",
    "import math\n",
    "from ipywidgets import FloatProgress\n",
    "from IPython.display import display\n",
    "%matplotlib inline\n",
    "\n",
    "#players = [2,4,8,10]\n",
    "players = [2,4,8,10,20,40,80,100,500,1000]\n",
    "select_flag = [1,0,0,1,0,0,0,1,0,1]\n",
    "steps = 10\n",
    "trials = 1000\n",
    "items = 1\n",
    "subplotnum = 1\n",
    "    \n",
    "print('Set of Players: ',players)\n",
    "ax = plt.figure(figsize=(15,10))\n",
    "ax.suptitle('Box plot showing mean and median over 1000 trials')\n",
    "trend_data = np.zeros((len(players),2,steps))\n",
    "trend_rev = np.zeros((len(players)))\n",
    "\n",
    "f_part = FloatProgress(min=0, max=steps*trials,description='Current Progress:')\n",
    "f_full = FloatProgress(min=0, max=len(players)*steps*trials,description='Overall Progress:')\n",
    "\n",
    "display(f_part)\n",
    "display(f_full)\n",
    "\n",
    "for i in range(0,len(players)):\n",
    "    \n",
    "    print('Current Players Set: ', players[i])\n",
    "    rev, thresh = get_revenue(i,players[i],items,steps,trials,second_price=True)\n",
    "    #print(str(players[i]),\" Players\\nMedian: \",[float(Decimal(\"%.2f\" % e)) for e in np.median(rev,axis=1)],\n",
    "    #      \"\\nMean  : \",[float(Decimal(\"%.2f\" % e)) for e in np.mean(rev,axis=1)] )\n",
    "    \n",
    "\n",
    "    n = players[i]\n",
    "    n_fact = math.factorial(players[i])\n",
    "    theo_rev_0 = (n-1)/(n+1)\n",
    "\n",
    "    #theo_thresh = 1/(1+1/(n-1/math.factorial(n-2)))\n",
    "    theo_thresh = 1/2\n",
    "\n",
    "    k = (theo_thresh+0.1)*steps\n",
    "\n",
    "\n",
    "    theo_rev = theo_rev_0 + \\\n",
    "                np.power(theo_thresh,n) - \\\n",
    "                (2*n/(n+1))*np.power(theo_thresh,n+1)\n",
    "\n",
    "    #l2, = plt.plot(k,theo_rev, 'og')\n",
    "    if select_flag[i] == 1:\n",
    "        l0 = plt.subplot(2,2,subplotnum)\n",
    "        subplotnum += 1\n",
    "        l1 = plt.boxplot(np.transpose(rev),notch=True,showmeans=True)\n",
    "        l2 = plt.plot(k,theo_rev, 'og',label='Theoretical best')\n",
    "        x = np.zeros((2,len(l1['means'])))\n",
    "        for j in range(0,len(l1['means'])):\n",
    "            x[0,j] = l1['means'][j].get_xdata()\n",
    "            x[1,j] = l1['means'][j].get_ydata()\n",
    "        plt.plot(x[0],x[1],'g--',label='Mean Line')\n",
    "        plt.xticks([i for i in range(1,steps+1)],thresh)\n",
    "        plt.xlabel('Reserve Price')\n",
    "        plt.ylabel('Seller Revenue')\n",
    "        plt.title(str(players[i])+' Players - IID')\n",
    "        handles, labels = l0.get_legend_handles_labels()\n",
    "        l0.legend(handles[::-1], labels[::-1],loc='lower left')\n",
    "        \n",
    "    trend_data[i,0,:] = np.mean(rev,axis=1)\n",
    "    trend_data[i,1,:] = np.median(rev,axis=1)\n",
    "    trend_rev[i] = theo_rev\n",
    "print('\\nAll Runs Complete...')\n",
    "plt.show()"
   ]
  },
  {
   "cell_type": "code",
   "execution_count": 73,
   "metadata": {
    "collapsed": false
   },
   "outputs": [
    {
     "data": {
      "text/plain": [
       "<matplotlib.legend.Legend at 0x7fa70a2752b0>"
      ]
     },
     "execution_count": 73,
     "metadata": {},
     "output_type": "execute_result"
    },
    {
     "data": {
      "image/png": "[encoded data removed]",
      "text/plain": [
       "<matplotlib.figure.Figure at 0x7fa738732f98>"
      ]
     },
     "metadata": {},
     "output_type": "display_data"
    }
   ],
   "source": [
    "from matplotlib.pyplot import gca\n",
    "\n",
    "ax = plt.figure(figsize=(15,5))\n",
    "a0 = plt.subplot(1,2,1)\n",
    "plt.plot(trend_data[:,0,:])\n",
    "plt.plot(trend_rev,'r^-.',linewidth=3.0,label='Theoretical best')\n",
    "plt.xticks([i for i in range(0,len(players))],players)\n",
    "plt.xlabel('Number of Players')\n",
    "plt.ylabel('Seller Revenue')\n",
    "plt.title('Mean Revenue wrt Number of Players')\n",
    "\n",
    "handles, labels = a0.get_legend_handles_labels()\n",
    "a2 = plt.legend(thresh,loc='lower right',title='Reserve Price')\n",
    "a0.legend(handles[::-1], labels[::-1],loc='lower left')\n",
    "gca().add_artist(a2)\n",
    "\n",
    "a1 = plt.subplot(1,2,2)\n",
    "plt.plot(trend_data[:,1,:])\n",
    "plt.plot(trend_rev,'r^-.',linewidth=3.0,label='Theoretical best')\n",
    "plt.xticks([i for i in range(0,len(players))],players)\n",
    "plt.xlabel('Number of Players')\n",
    "plt.ylabel('Seller Revenue')\n",
    "plt.title('Median Revenue wrt Number of Players')\n",
    "\n",
    "a2 = plt.legend(thresh,loc='lower right',title='Reserve Price')\n",
    "handles, labels = a1.get_legend_handles_labels()\n",
    "a1.legend(handles[::-1], labels[::-1],loc='lower left')\n",
    "gca().add_artist(a2)"
   ]
  },
  {
   "cell_type": "code",
   "execution_count": null,
   "metadata": {
    "collapsed": true
   },
   "outputs": [],
   "source": []
  }
 ],
 "metadata": {
  "kernelspec": {
   "display_name": "Python 3",
   "language": "python",
   "name": "python3"
  },
  "language_info": {
   "codemirror_mode": {
    "name": "ipython",
    "version": 3
   },
   "file_extension": ".py",
   "mimetype": "text/x-python",
   "name": "python",
   "nbconvert_exporter": "python",
   "pygments_lexer": "ipython3",
   "version": "3.5.2"
  },
  "widgets": {
   "state": {
    "0184c370c21c4101a24f1d18b940a80a": {
     "views": [
      {
       "cell_index": 12
      }
     ]
    },
    "0239b73063434ebc81601f2277704463": {
     "views": []
    },
    "03ed7d2767364e5aa199826c8fea8512": {
     "views": []
    },
    "079867c491354d49ae102c6e51a0f9b0": {
     "views": [
      {
       "cell_index": 11
      }
     ]
    },
    "07ba31a5ea2d43998106a4601ebabbac": {
     "views": []
    },
    "07cd994eb5a44e978731b2034442fc03": {
     "views": []
    },
    "084b0157768f4c439c3dfd8a18b411de": {
     "views": [
      {
       "cell_index": 11
      }
     ]
    },
    "0a6e8b6da9664c6cb57940ab61e220a3": {
     "views": [
      {
       "cell_index": 11
      }
     ]
    },
    "0b6966d2c5434c6f9ebbb99a92e7438f": {
     "views": [
      {
       "cell_index": 11
      }
     ]
    },
    "0baf245a4b404584bd2c35bea949d99e": {
     "views": [
      {
       "cell_index": 11
      }
     ]
    },
    "0eb396c34e774bc39a874665f824a5d9": {
     "views": []
    },
    "11475a0e8a2545f7a8022923c21333f0": {
     "views": [
      {
       "cell_index": 11
      }
     ]
    },
    "130bc9fd27e24398a41f6ba613df6598": {
     "views": []
    },
    "13ac4d1e4e714ced8fc2835acb05da18": {
     "views": []
    },
    "17499d1c1b454c328d09e9f137a0ffab": {
     "views": []
    },
    "191232eaff544cf5bcd1dae19a1ec57d": {
     "views": []
    },
    "1927d502366e4103b1069c7d184643d9": {
     "views": []
    },
    "1a8d141ff9964de59461e7e0257f2038": {
     "views": []
    },
    "1ba5e9ee74c649db8002dd70dcc57695": {
     "views": [
      {
       "cell_index": 11
      }
     ]
    },
    "1bc8eadb8eb444c8beaf383d9f5eac31": {
     "views": []
    },
    "1c48551f7c584dbe8c1ba54c2cefb73d": {
     "views": []
    },
    "1c640151917d40ccb0bee4c5dbd5f939": {
     "views": []
    },
    "1d2ada7cb4d84f6390c5a43b71890123": {
     "views": [
      {
       "cell_index": 11
      }
     ]
    },
    "1f75a298f7fc48d2a62fd17760b10dc2": {
     "views": []
    },
    "1fbe2d62c3ac4e139d7ff19b178d550d": {
     "views": []
    },
    "20c5471b90a64bbd953623bfd7ab399a": {
     "views": []
    },
    "20eeb64aac0549bdaa22f57e4976ac6c": {
     "views": []
    },
    "21650fafc7214a66932143c01238ddea": {
     "views": []
    },
    "25e24fa6a1ae4664ac82623436b367e4": {
     "views": []
    },
    "269a1249e6ec4c188227b48b444adb3e": {
     "views": []
    },
    "2757c1b2b6834f48afe3cb5807aeb6ff": {
     "views": []
    },
    "2abdd395c9ed4c7eaeaf39eb5ead6b76": {
     "views": []
    },
    "2d5177ff6ffb4270a1baaa7efac6e95c": {
     "views": [
      {
       "cell_index": 11
      }
     ]
    },
    "2fce05a86d9441929604285eb341360c": {
     "views": []
    },
    "31881a415b784ad58d63932d8ed2ac04": {
     "views": []
    },
    "31aa888215594a4a8d97cd770b3441ba": {
     "views": []
    },
    "31e2bbd7ac3c463da06208e769c7bc6e": {
     "views": []
    },
    "321eca849ee243bb87ce84dd3bf20425": {
     "views": []
    },
    "34598337087d45459743807385c565ab": {
     "views": []
    },
    "35ff3126a2af416dacc7b073a33590d1": {
     "views": []
    },
    "37011a2710af4a0dbe020246fa5e2b14": {
     "views": []
    },
    "3d90efffa9664f63bdc7226184772110": {
     "views": []
    },
    "3eeda6c0efb34cc5b2390e70b5d6cc21": {
     "views": []
    },
    "3f73e7b756b047f9a8b3e8b812d002b5": {
     "views": []
    },
    "412e44ed38db446db69c2a270c8c1fd6": {
     "views": []
    },
    "4184658493614bd0b0d2d37837bdf42c": {
     "views": []
    },
    "4432e142675446e89551e886f7c2b117": {
     "views": [
      {
       "cell_index": 14
      }
     ]
    },
    "492b3ff2cfb84446a38dbb942bc79529": {
     "views": [
      {
       "cell_index": 11
      }
     ]
    },
    "494d64ac20164e208d3c18f3e375e5cd": {
     "views": [
      {
       "cell_index": 11
      }
     ]
    },
    "4b63a8cef4d940768b2fc376900cdcaf": {
     "views": []
    },
    "4c24915217f54cfba4b5d3f73b48f3a9": {
     "views": [
      {
       "cell_index": 11
      }
     ]
    },
    "4d24f935a15b44918694a719c0107485": {
     "views": []
    },
    "52b12d1867364bf3aebcd02c8a942e53": {
     "views": []
    },
    "52cc74087e68404a95e555db604e6245": {
     "views": [
      {
       "cell_index": 14
      }
     ]
    },
    "52da54e53e7f4e3ea68e34f4763e9366": {
     "views": []
    },
    "54e8ef9f4def4076b933c7f736f6b0ae": {
     "views": [
      {
       "cell_index": 12
      }
     ]
    },
    "557332782652477c909a655531621aea": {
     "views": [
      {
       "cell_index": 14
      }
     ]
    },
    "568d85786cea431dae641e32b86d87b5": {
     "views": []
    },
    "56d0d3a7ebe54e6c9e5d3dc63aa0cc6b": {
     "views": []
    },
    "58e3ea0785bc4031bb6b8dc4e47fe8b8": {
     "views": []
    },
    "59864172de184c4aad9f1e79ca4a5c1a": {
     "views": []
    },
    "5bbd73e2294d47b1a460a046be1f5029": {
     "views": []
    },
    "5c396a1b2a4c4fcc93ecc0f15ffece52": {
     "views": []
    },
    "5c890278483e4d4081c960cff51cfdd5": {
     "views": [
      {
       "cell_index": 11
      }
     ]
    },
    "5fbe3f2daca44df4b6e3a07eb5f2d4fb": {
     "views": [
      {
       "cell_index": 11
      }
     ]
    },
    "61f7fe87e69f434986a79653b4625214": {
     "views": []
    },
    "623ef5d208324fbea87c3263a10709e9": {
     "views": []
    },
    "687fc5221e8c4f6baa4c0e8ce074b93d": {
     "views": []
    },
    "695e6673a5e64f01b77a2528b90de7fe": {
     "views": []
    },
    "6f1805a5197f4b78b9cfe21b89efd4aa": {
     "views": []
    },
    "6f63ac55d56f4747b81cfdd74c4944ec": {
     "views": []
    },
    "70b3e59e17054af09626f397561a0517": {
     "views": []
    },
    "7202e54aecb54eb79f1cd7e33a00a1a6": {
     "views": []
    },
    "721d4b7d27494bf88a053d360eddc718": {
     "views": []
    },
    "7700550a4e834a4696103bc052c9c715": {
     "views": [
      {
       "cell_index": 11
      }
     ]
    },
    "7a467b84e99540dbab015bca429551ce": {
     "views": []
    },
    "7bc559ff269a4e0b9b118f62137f4636": {
     "views": []
    },
    "7c5fc8b9396d4eed91ee628262a45551": {
     "views": [
      {
       "cell_index": 11
      }
     ]
    },
    "7f15b61c83024035ab0c3a1990579a3d": {
     "views": [
      {
       "cell_index": 11
      }
     ]
    },
    "7fc6da251ea3470abc6f3814652362ac": {
     "views": []
    },
    "8074ce6cc3964031a644e01bb5d8097f": {
     "views": []
    },
    "80c0b9b505c6491c9329948d620b29b3": {
     "views": []
    },
    "81902f9491894943ae70e8caf86743ed": {
     "views": []
    },
    "82aff2a4c9a34c7ab99aa0fd314ab4cb": {
     "views": [
      {
       "cell_index": 11
      }
     ]
    },
    "830036f02695401f84088c8a7b335888": {
     "views": [
      {
       "cell_index": 11
      }
     ]
    },
    "8626eecb60ad4eb790473decdd6577d9": {
     "views": []
    },
    "87d7f9e6874c4c48bc60bb602b1661a6": {
     "views": []
    },
    "88847caec5e04b2e85555b43afcb8ea3": {
     "views": []
    },
    "8b4c48091352486e8c72d67e2d725046": {
     "views": [
      {
       "cell_index": 11
      }
     ]
    },
    "8cae383ed7e447debed11a6645f28156": {
     "views": []
    },
    "8e5f9f87fb0f4de88dbaaeb5d2ed8a84": {
     "views": []
    },
    "9032e781697240aca22e4a461276ca8c": {
     "views": []
    },
    "911821511a354adab7cd1efee31fdfbe": {
     "views": []
    },
    "93d08c96e375457f9e6b519566deb154": {
     "views": []
    },
    "957136d8173c4e278eb3974a0c99707d": {
     "views": [
      {
       "cell_index": 11
      }
     ]
    },
    "9621cc1727be451caa9e9f740c266242": {
     "views": []
    },
    "9630fa7286b24f4ab59749f38c869d95": {
     "views": []
    },
    "96511a0daf3c42c6946b7bc3fa680e0f": {
     "views": []
    },
    "96ff569d542f44f7b9351abcd35cab2a": {
     "views": []
    },
    "9a71a6df0cea4b38af274e9c281d6034": {
     "views": []
    },
    "9c7194fb7aaa4166a0f52bb80f832688": {
     "views": []
    },
    "9d22bc89d74d4e3e8626403a0d550670": {
     "views": [
      {
       "cell_index": 11
      }
     ]
    },
    "9eb65a2148c84503a3890a582307e585": {
     "views": []
    },
    "9fbafcf253104ec8bb9f5ca757e3b5ae": {
     "views": []
    },
    "a01a3eb90a6149cc8b89236828041de3": {
     "views": []
    },
    "a90961b0b4f64805b186be9123066816": {
     "views": []
    },
    "a9a9c852b87547208470c3b8021dbfb1": {
     "views": []
    },
    "aa5f236ac1d246678a2a5af9eebc781f": {
     "views": []
    },
    "aef5a2c5352845e399e777ebda20d524": {
     "views": []
    },
    "af5183ea6edd4e7687a0373c45d17fda": {
     "views": []
    },
    "af6cf3524cba4a7d8fc56c7487764518": {
     "views": []
    },
    "afd51135cc324c3bbf274ec1e3204daa": {
     "views": [
      {
       "cell_index": 11
      }
     ]
    },
    "b00a3d434aa748779e40b49c5c17da21": {
     "views": []
    },
    "b0e69b64a6a4408da414d3681ec866f6": {
     "views": []
    },
    "b13d2527d79b4ebabf610a2d7f29d4e4": {
     "views": []
    },
    "b4822b51cd934d3b98aadaa0bafd8ac0": {
     "views": []
    },
    "b510dd6b656c4feeba5f0a699871e799": {
     "views": []
    },
    "b8b02233e47743ec94d63168bce78b5a": {
     "views": [
      {
       "cell_index": 12
      }
     ]
    },
    "b9c5244923014198afee9194e0f489fe": {
     "views": []
    },
    "bc0d906af1aa43bc94abe9f5ad099a66": {
     "views": []
    },
    "bc45891db7fd4c3bb503d0fe2582c90f": {
     "views": []
    },
    "bcb36cf7a7f248299861cea79a35e71f": {
     "views": []
    },
    "bcc55cdb0a2e4495ae29f2fec117278d": {
     "views": []
    },
    "bf4338a4672a42a3aa28696d9723e7a4": {
     "views": []
    },
    "c137590d14134af09aab0ea2633eef3c": {
     "views": [
      {
       "cell_index": 11
      }
     ]
    },
    "c262890d46e44b92b7adf34bedd13b5d": {
     "views": [
      {
       "cell_index": 11
      }
     ]
    },
    "c5b3938fb3e24c7fa552fd84ab110f71": {
     "views": []
    },
    "c5bb0c22da6d4e8cbf957237c10af0ff": {
     "views": []
    },
    "c8611d879ff540a1b948aae3f4a85810": {
     "views": []
    },
    "c871517b92e04072879616366a641322": {
     "views": []
    },
    "c8de48c5f66c484db183fe5233ce3fca": {
     "views": []
    },
    "ca9b8b8d81f84c5c887118a84fa99c83": {
     "views": []
    },
    "cc7b327a33e34e3a9cb4fef447de5660": {
     "views": []
    },
    "ccd1428ed1354bfbaea152c53f3d5e65": {
     "views": []
    },
    "cd259bc5a3f44ddbaa9201f553dff612": {
     "views": [
      {
       "cell_index": 11
      }
     ]
    },
    "cebe65d960124b6b99e6a45cefacebef": {
     "views": []
    },
    "d08329261b4743bb9234c0ad6a0ef3bd": {
     "views": [
      {
       "cell_index": 11
      }
     ]
    },
    "d65d78614f4d42a58486e3174e27f7a3": {
     "views": [
      {
       "cell_index": 14
      }
     ]
    },
    "d6ae6ee670a14049af750eaa0e3b241d": {
     "views": []
    },
    "d721b8f0166340e09f7030b979b4414b": {
     "views": []
    },
    "d7f22aaf6bae40d09694dab9f7729987": {
     "views": [
      {
       "cell_index": 11
      }
     ]
    },
    "d84ac469f3b043a9989068dfca60005d": {
     "views": []
    },
    "dc8450a7989d4f86a67c4e7a39aedc71": {
     "views": [
      {
       "cell_index": 11
      }
     ]
    },
    "de554c6b748e4477b0d31aee93d6e05b": {
     "views": []
    },
    "de6c4417258848aea85795e2151b6dad": {
     "views": []
    },
    "e351c81bc3104d3080d1e1c0adc6171d": {
     "views": []
    },
    "e6a7cff6069c4908843bf754598f12a1": {
     "views": [
      {
       "cell_index": 12
      }
     ]
    },
    "edc05ff1f0ec4271a31ee0a5865a021f": {
     "views": []
    },
    "ee70356c3ee843e7885070e82471673b": {
     "views": []
    },
    "f4c4d4bb2eb945349bef5b110e0bd68c": {
     "views": []
    },
    "f52173b14f0b4217875a1104cac11a3f": {
     "views": [
      {
       "cell_index": 14
      }
     ]
    },
    "f5418c650e1049baa7bf2282e20f6ec3": {
     "views": []
    },
    "f60a7accb7e344f6958f3e3152540c79": {
     "views": [
      {
       "cell_index": 11
      }
     ]
    },
    "f65a500f60974ca1be2019463cf063e5": {
     "views": [
      {
       "cell_index": 11
      }
     ]
    },
    "f69cf17b238f4ca595fa37bccb61bad2": {
     "views": [
      {
       "cell_index": 14
      }
     ]
    },
    "f6a8f918499f44e0a8c2c4e9bf659842": {
     "views": []
    },
    "f85f5393bc344411a65d4559cabd3e21": {
     "views": []
    },
    "fa7d340be9614efc8828b78dd0d1f685": {
     "views": []
    },
    "fb03df101e554776b72c30c687c019a1": {
     "views": []
    },
    "fbba216b53934cbcb30fc5441a42cea8": {
     "views": []
    },
    "fccfc0bd928649ddb86a74e37f50a73f": {
     "views": [
      {
       "cell_index": 11
      }
     ]
    },
    "feb4efeb12f14b89a1302dfdf411cb08": {
     "views": []
    },
    "fedee445e59547ee8a6fcbd75d3cd335": {
     "views": []
    },
    "ff74eb2aaa5840dfa7065af6f6f93705": {
     "views": []
    }
   },
   "version": "1.1.2"
  }
 },
 "nbformat": 4,
 "nbformat_minor": 0
}
